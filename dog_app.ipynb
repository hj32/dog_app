{
 "cells": [
  {
   "cell_type": "markdown",
   "metadata": {},
   "source": [
    "# Data Scientist Nanodegree\n",
    "\n",
    "## Convolutional Neural Networks\n",
    "\n",
    "## Project: Write an Algorithm for a Dog Identification App \n",
    "\n",
    "\n",
    "This notebook walks you through one of the most popular Udacity projects across machine learning and artificial intellegence nanodegree programs.  The goal is to classify images of dogs according to their breed.  \n",
    "\n",
    "If you are looking for a more guided capstone project related to deep learning and convolutional neural networks, this might be just it.  Notice that even if you follow the notebook to creating your classifier, you must still create a blog post or deploy an application to fulfill the requirements of the capstone project.\n",
    "\n",
    "Also notice, you may be able to use only parts of this notebook (for example certain coding portions or the data) without completing all parts and still meet all requirements of the capstone project.\n",
    "\n",
    "---\n",
    "\n",
    "In this notebook, some template code has already been provided for you, and you will need to implement additional functionality to successfully complete this project. You will not need to modify the included code beyond what is requested. Sections that begin with **'(IMPLEMENTATION)'** in the header indicate that the following block of code will require additional functionality which you must provide. Instructions will be provided for each section, and the specifics of the implementation are marked in the code block with a 'TODO' statement. Please be sure to read the instructions carefully! \n",
    "\n",
    "In addition to implementing code, there will be questions that you must answer which relate to the project and your implementation. Each section where you will answer a question is preceded by a **'Question X'** header. Carefully read each question and provide thorough answers in the following text boxes that begin with **'Answer:'**. Your project submission will be evaluated based on your answers to each of the questions and the implementation you provide.\n",
    "\n",
    ">**Note:** Code and Markdown cells can be executed using the **Shift + Enter** keyboard shortcut.  Markdown cells can be edited by double-clicking the cell to enter edit mode.\n",
    "\n",
    "The rubric contains _optional_ \"Stand Out Suggestions\" for enhancing the project beyond the minimum requirements. If you decide to pursue the \"Stand Out Suggestions\", you should include the code in this IPython notebook.\n",
    "\n",
    "\n",
    "\n",
    "---\n",
    "### Why We're Here \n",
    "\n",
    "In this notebook, you will make the first steps towards developing an algorithm that could be used as part of a mobile or web app.  At the end of this project, your code will accept any user-supplied image as input.  If a dog is detected in the image, it will provide an estimate of the dog's breed.  If a human is detected, it will provide an estimate of the dog breed that is most resembling.  The image below displays potential sample output of your finished project (... but we expect that each student's algorithm will behave differently!). \n",
    "\n",
    "![Sample Dog Output](images/sample_dog_output.png)\n",
    "\n",
    "In this real-world setting, you will need to piece together a series of models to perform different tasks; for instance, the algorithm that detects humans in an image will be different from the CNN that infers dog breed.  There are many points of possible failure, and no perfect algorithm exists.  Your imperfect solution will nonetheless create a fun user experience!\n",
    "\n",
    "### The Road Ahead\n",
    "\n",
    "We break the notebook into separate steps.  Feel free to use the links below to navigate the notebook.\n",
    "\n",
    "* [Step 0](#step0): Import Datasets\n",
    "* [Step 1](#step1): Detect Humans\n",
    "* [Step 2](#step2): Detect Dogs\n",
    "* [Step 3](#step3): Create a CNN to Classify Dog Breeds (from Scratch)\n",
    "* [Step 4](#step4): Use a CNN to Classify Dog Breeds (using Transfer Learning)\n",
    "* [Step 5](#step5): Create a CNN to Classify Dog Breeds (using Transfer Learning)\n",
    "* [Step 6](#step6): Write your Algorithm\n",
    "* [Step 7](#step7): Test Your Algorithm\n",
    "\n",
    "---\n",
    "<a id='step0'></a>\n",
    "## Step 0: Import Datasets\n",
    "\n",
    "### Import Dog Dataset\n",
    "\n",
    "In the code cell below, we import a dataset of dog images.  We populate a few variables through the use of the `load_files` function from the scikit-learn library:\n",
    "- `train_files`, `valid_files`, `test_files` - numpy arrays containing file paths to images\n",
    "- `train_targets`, `valid_targets`, `test_targets` - numpy arrays containing onehot-encoded classification labels \n",
    "- `dog_names` - list of string-valued dog breed names for translating labels"
   ]
  },
  {
   "cell_type": "code",
   "execution_count": 1,
   "metadata": {},
   "outputs": [
    {
     "name": "stderr",
     "output_type": "stream",
     "text": [
      "Using TensorFlow backend.\n"
     ]
    }
   ],
   "source": [
    "from sklearn.datasets import load_files       \n",
    "from keras.utils import np_utils\n",
    "import numpy as np\n",
    "import pandas as pd\n",
    "from glob import glob\n",
    "import tensorflow as tf\n",
    "import cv2\n",
    "import PIL\n",
    "import os\n",
    "import time\n",
    "import sys\n",
    "import matplotlib.pyplot as plt\n",
    "\n",
    "from sklearn.utils import shuffle\n",
    "from sklearn.model_selection import train_test_split\n",
    "from sklearn.metrics import confusion_matrix\n",
    "from sklearn.utils import class_weight\n",
    "\n",
    "import keras.backend as K\n",
    "import keras\n",
    "from keras.utils import np_utils\n",
    "from keras.models import Sequential\n",
    "from keras.layers.core import Dense, Dropout, Activation, Flatten\n",
    "from keras.layers.convolutional import Convolution2D, MaxPooling2D\n",
    "from keras.layers import GlobalAveragePooling2D\n",
    "from keras.layers import Conv2D\n",
    "from keras.optimizers import SGD,RMSprop,adam\n",
    "from keras.callbacks import ModelCheckpoint  \n",
    "from keras import callbacks\n",
    "from keras import Input\n",
    "\n",
    "from metrics_utility import f1_score"
   ]
  },
  {
   "cell_type": "code",
   "execution_count": 2,
   "metadata": {},
   "outputs": [],
   "source": [
    "# define function to load train, test, and validation datasets\n",
    "def load_dataset(path):\n",
    "    data = load_files(path)\n",
    "    dog_files = np.array(data['filenames'])\n",
    "    dog_targets = np_utils.to_categorical(np.array(data['target']), 133)\n",
    "    return dog_files, dog_targets\n",
    "\n",
    "# load train, test, and validation datasets\n",
    "train_files, train_targets = load_dataset('../../../data/dog_images/train')\n",
    "valid_files, valid_targets = load_dataset('../../../data/dog_images/valid')\n",
    "test_files, test_targets = load_dataset('../../../data/dog_images/test')\n",
    "\n",
    "# load list of dog names\n",
    "dog_names = [item[35:-1] for item in sorted(glob(\"../../../data/dog_images/train/*/\"))]\n",
    "num_classes=133\n"
   ]
  },
  {
   "cell_type": "code",
   "execution_count": 3,
   "metadata": {},
   "outputs": [
    {
     "name": "stdout",
     "output_type": "stream",
     "text": [
      "There are 133 total dog categories.\n",
      "There are 8351 total dog images.\n",
      "\n",
      "There are 6680 training dog images.\n",
      "There are 835 validation dog images.\n",
      "There are 836 test dog images.\n",
      "\n",
      "tensorflow version 1.3.0\n",
      "keras version 2.0.9\n",
      "python version sys.version_info(major=3, minor=6, micro=3, releaselevel='final', serial=0)\n"
     ]
    }
   ],
   "source": [
    "# print statistics about the dataset\n",
    "print('There are %d total dog categories.' % len(dog_names))\n",
    "print('There are %s total dog images.\\n' % len(np.hstack([train_files, valid_files, test_files])))\n",
    "print('There are %d training dog images.' % len(train_files))\n",
    "print('There are %d validation dog images.' % len(valid_files))\n",
    "print('There are %d test dog images.'% len(test_files))\n",
    "print('')\n",
    "print('tensorflow version',tf.__version__)\n",
    "print('keras version',keras.__version__)\n",
    "print('python version',sys.version_info)"
   ]
  },
  {
   "cell_type": "markdown",
   "metadata": {},
   "source": [
    "### Import Human Dataset\n",
    "\n",
    "In the code cell below, we import a dataset of human images, where the file paths are stored in the numpy array `human_files`."
   ]
  },
  {
   "cell_type": "code",
   "execution_count": 4,
   "metadata": {},
   "outputs": [
    {
     "name": "stdout",
     "output_type": "stream",
     "text": [
      "There are 13233 human images in total.\n"
     ]
    }
   ],
   "source": [
    "import random\n",
    "random.seed(8675309)\n",
    "\n",
    "# load filenames in shuffled human dataset\n",
    "human_files = np.array(glob(\"../../../data/lfw/*/*\"))\n",
    "random.shuffle(human_files)\n",
    "\n",
    "# print statistics about the dataset\n",
    "print('There are %d human images in total.' % len(human_files))"
   ]
  },
  {
   "cell_type": "markdown",
   "metadata": {},
   "source": [
    "---\n",
    "<a id='step1'></a>\n",
    "## Step 1: Detect Humans\n",
    "\n",
    "We use OpenCV's implementation of [Haar feature-based cascade classifiers](http://docs.opencv.org/trunk/d7/d8b/tutorial_py_face_detection.html) to detect human faces in images.  OpenCV provides many pre-trained face detectors, stored as XML files on [github](https://github.com/opencv/opencv/tree/master/data/haarcascades).  We have downloaded one of these detectors and stored it in the `haarcascades` directory.\n",
    "\n",
    "In the next code cell, we demonstrate how to use this detector to find human faces in a sample image."
   ]
  },
  {
   "cell_type": "code",
   "execution_count": 5,
   "metadata": {},
   "outputs": [
    {
     "name": "stdout",
     "output_type": "stream",
     "text": [
      "Number of faces detected: 1\n"
     ]
    },
    {
     "data": {
      "image/png": "[encoded data removed]",
      "text/plain": [
       "<matplotlib.figure.Figure at 0x7f72fd04aa20>"
      ]
     },
     "metadata": {
      "needs_background": "light"
     },
     "output_type": "display_data"
    }
   ],
   "source": [
    "import cv2                \n",
    "import matplotlib.pyplot as plt                        \n",
    "%matplotlib inline                               \n",
    "\n",
    "# extract pre-trained face detector\n",
    "face_cascade = cv2.CascadeClassifier('haarcascades/haarcascade_frontalface_alt.xml')\n",
    "\n",
    "# load color (BGR) image\n",
    "img = cv2.imread(human_files[3])\n",
    "# convert BGR image to grayscale\n",
    "gray = cv2.cvtColor(img, cv2.COLOR_BGR2GRAY)\n",
    "\n",
    "# find faces in image\n",
    "faces = face_cascade.detectMultiScale(gray)\n",
    "\n",
    "# print number of faces detected in the image\n",
    "print('Number of faces detected:', len(faces))\n",
    "\n",
    "# get bounding box for each detected face\n",
    "for (x,y,w,h) in faces:\n",
    "    # add bounding box to color image\n",
    "    cv2.rectangle(img,(x,y),(x+w,y+h),(255,0,0),2)\n",
    "    \n",
    "# convert BGR image to RGB for plotting\n",
    "cv_rgb = cv2.cvtColor(img, cv2.COLOR_BGR2RGB)\n",
    "\n",
    "# display the image, along with bounding box\n",
    "plt.imshow(cv_rgb)\n",
    "plt.show()"
   ]
  },
  {
   "cell_type": "markdown",
   "metadata": {},
   "source": [
    "Before using any of the face detectors, it is standard procedure to convert the images to grayscale.  The `detectMultiScale` function executes the classifier stored in `face_cascade` and takes the grayscale image as a parameter.  \n",
    "\n",
    "In the above code, `faces` is a numpy array of detected faces, where each row corresponds to a detected face.  Each detected face is a 1D array with four entries that specifies the bounding box of the detected face.  The first two entries in the array (extracted in the above code as `x` and `y`) specify the horizontal and vertical positions of the top left corner of the bounding box.  The last two entries in the array (extracted here as `w` and `h`) specify the width and height of the box.\n",
    "\n",
    "### Write a Human Face Detector\n",
    "\n",
    "We can use this procedure to write a function that returns `True` if a human face is detected in an image and `False` otherwise.  This function, aptly named `face_detector`, takes a string-valued file path to an image as input and appears in the code block below."
   ]
  },
  {
   "cell_type": "code",
   "execution_count": 6,
   "metadata": {},
   "outputs": [],
   "source": [
    "# returns \"True\" if face is detected in image stored at img_path\n",
    "def face_detector(img_path):\n",
    "    img = cv2.imread(img_path)\n",
    "    gray = cv2.cvtColor(img, cv2.COLOR_BGR2GRAY)\n",
    "    faces = face_cascade.detectMultiScale(gray)\n",
    "    return len(faces) > 0"
   ]
  },
  {
   "cell_type": "markdown",
   "metadata": {},
   "source": [
    "### (IMPLEMENTATION) Assess the Human Face Detector\n",
    "\n",
    "__Question 1:__ Use the code cell below to test the performance of the `face_detector` function.  \n",
    "- What percentage of the first 100 images in `human_files` have a detected human face?  \n",
    "- What percentage of the first 100 images in `dog_files` have a detected human face? \n",
    "\n",
    "Ideally, we would like 100% of human images with a detected face and 0% of dog images with a detected face.  You will see that our algorithm falls short of this goal, but still gives acceptable performance.  We extract the file paths for the first 100 images from each of the datasets and store them in the numpy arrays `human_files_short` and `dog_files_short`.\n",
    "\n",
    "__Answer:__ "
   ]
  },
  {
   "cell_type": "code",
   "execution_count": 7,
   "metadata": {},
   "outputs": [
    {
     "name": "stdout",
     "output_type": "stream",
     "text": [
      "True positives in 100 human faces = 100 %\n",
      "False positives in 100 dog faces = 11 %\n"
     ]
    }
   ],
   "source": [
    "human_files_short = human_files[:100]\n",
    "dog_files_short = train_files[:100]\n",
    "# Do NOT modify the code above this line.\n",
    "\n",
    "## TODO: Test the performance of the face_detector algorithm \n",
    "## on the images in human_files_short and dog_files_short.\n",
    "\n",
    "# Detect and count human faces found in 100 human face images\n",
    "true_positive_count=0\n",
    "for img in human_files_short:\n",
    "    detected = face_detector(img)\n",
    "    if(detected):\n",
    "        true_positive_count+=1\n",
    "        \n",
    "# Detect and count human faces found in 100 dog face images        \n",
    "false_positive_count=0\n",
    "for img in dog_files_short:\n",
    "    detected = face_detector(img)\n",
    "    if(detected):\n",
    "        false_positive_count+=1\n",
    "    \n",
    "print(\"True positives in 100 human faces =\",true_positive_count,\"%\")\n",
    "print(\"False positives in 100 dog faces =\",false_positive_count,\"%\")"
   ]
  },
  {
   "cell_type": "markdown",
   "metadata": {},
   "source": [
    "Answer:\n",
    "    The opencv model has been trained to discriminate between target(human) and non target images. It has not been trained to using pictures of dogs so it unreasonable to expect it perform well at this task. The documentation provides a little background on the training of the model.   \n",
    "[Opencv model training documentation](https://docs.opencv.org/2.4/doc/user_guide/ug_traincascade.html)"
   ]
  },
  {
   "cell_type": "markdown",
   "metadata": {},
   "source": [
    "__Question 2:__ This algorithmic choice necessitates that we communicate to the user that we accept human images only when they provide a clear view of a face (otherwise, we risk having unneccessarily frustrated users!). In your opinion, is this a reasonable expectation to pose on the user? If not, can you think of a way to detect humans in images that does not necessitate an image with a clearly presented face?\n",
    "\n",
    "__Answer:__\n",
    "\n",
    "The application  needs to be considered then design decisions made to deliver the business case specified. Any limitations of the software app need to be understood by the business or customer of the app.  \n",
    "If a app is required to identify partial faces then it needs to be designed and trained for this purpose. The human face dataset presented here is separated into classes by person name so it seems that it has been designed with facial personal identfication in mind not simply human or not recognition.  In an application say facial recognition based security it is reasonable to mandate user present head on facial images for evaluation.\n",
    "\n",
    "\n",
    "***\n",
    "\n",
    "We suggest the face detector from OpenCV as a potential way to detect human images in your algorithm, but you are free to explore other approaches, especially approaches that make use of deep learning :).  Please use the code cell below to design and test your own face detection algorithm.  If you decide to pursue this _optional_ task, report performance on each of the datasets."
   ]
  },
  {
   "cell_type": "markdown",
   "metadata": {},
   "source": [
    "### (Optional) TODO: Report the performance of another  \n",
    "### face detection algorithm on the LFW dataset\n",
    "#### Feel free to use as many code cells as needed."
   ]
  },
  {
   "cell_type": "code",
   "execution_count": 8,
   "metadata": {},
   "outputs": [],
   "source": [
    "def display_image(img_path, title='image'):   \n",
    "    \"\"\"\n",
    "    Show the image stored at path with title\n",
    "    Args:\n",
    "    img_path (string): pathname of file to make prediction for\n",
    "    title (string): title of image displayed\n",
    "    Returns:\n",
    "    axs (plt.Axis): Axis of image displayed\n",
    "    \"\"\"\n",
    "    fig, axs = plt.subplots(figsize=(6,6))\n",
    "    axs.imshow(np.array(PIL.Image.open(img_path)))\n",
    "    axs.axis('off')\n",
    "    axs.set_title(title)\n",
    "    plt.show()\n",
    "    return axs"
   ]
  },
  {
   "cell_type": "code",
   "execution_count": 9,
   "metadata": {},
   "outputs": [
    {
     "name": "stdout",
     "output_type": "stream",
     "text": [
      "human_files dataset shape = (13233,)\n"
     ]
    }
   ],
   "source": [
    "# Human face dataset human_files\n",
    "print(\"human_files dataset shape =\",human_files.shape)\n",
    "# Check dimensions of images\n",
    "for img in human_files:\n",
    "    width,height=PIL.Image.open(img).size\n",
    "    if(width!=250 or height!=250):\n",
    "        print ('Wrong size!')"
   ]
  },
  {
   "cell_type": "code",
   "execution_count": 10,
   "metadata": {},
   "outputs": [
    {
     "name": "stdout",
     "output_type": "stream",
     "text": [
      "Number of dog files 8351\n"
     ]
    }
   ],
   "source": [
    "#dog_files_all = np.append(train_files, values=[valid_files, test_files])\n",
    "\n",
    "dog_files_all=[]\n",
    "dog_files_all.extend(train_files)\n",
    "dog_files_all.extend(valid_files)\n",
    "dog_files_all.extend(test_files)\n",
    "print(\"Number of dog files\",len(dog_files_all))"
   ]
  },
  {
   "cell_type": "code",
   "execution_count": 11,
   "metadata": {},
   "outputs": [
    {
     "data": {
      "text/html": [
       "<div>\n",
       "<style scoped>\n",
       "    .dataframe tbody tr th:only-of-type {\n",
       "        vertical-align: middle;\n",
       "    }\n",
       "\n",
       "    .dataframe tbody tr th {\n",
       "        vertical-align: top;\n",
       "    }\n",
       "\n",
       "    .dataframe thead th {\n",
       "        text-align: right;\n",
       "    }\n",
       "</style>\n",
       "<table border=\"1\" class=\"dataframe\">\n",
       "  <thead>\n",
       "    <tr style=\"text-align: right;\">\n",
       "      <th></th>\n",
       "      <th>width</th>\n",
       "      <th>height</th>\n",
       "    </tr>\n",
       "  </thead>\n",
       "  <tbody>\n",
       "    <tr>\n",
       "      <th>count</th>\n",
       "      <td>8351.000000</td>\n",
       "      <td>8351.000000</td>\n",
       "    </tr>\n",
       "    <tr>\n",
       "      <th>mean</th>\n",
       "      <td>567.032571</td>\n",
       "      <td>529.044905</td>\n",
       "    </tr>\n",
       "    <tr>\n",
       "      <th>std</th>\n",
       "      <td>389.006647</td>\n",
       "      <td>333.197594</td>\n",
       "    </tr>\n",
       "    <tr>\n",
       "      <th>min</th>\n",
       "      <td>105.000000</td>\n",
       "      <td>113.000000</td>\n",
       "    </tr>\n",
       "    <tr>\n",
       "      <th>25%</th>\n",
       "      <td>375.000000</td>\n",
       "      <td>360.000000</td>\n",
       "    </tr>\n",
       "    <tr>\n",
       "      <th>50%</th>\n",
       "      <td>500.000000</td>\n",
       "      <td>467.000000</td>\n",
       "    </tr>\n",
       "    <tr>\n",
       "      <th>75%</th>\n",
       "      <td>640.000000</td>\n",
       "      <td>600.000000</td>\n",
       "    </tr>\n",
       "    <tr>\n",
       "      <th>max</th>\n",
       "      <td>4278.000000</td>\n",
       "      <td>4003.000000</td>\n",
       "    </tr>\n",
       "  </tbody>\n",
       "</table>\n",
       "</div>"
      ],
      "text/plain": [
       "             width       height\n",
       "count  8351.000000  8351.000000\n",
       "mean    567.032571   529.044905\n",
       "std     389.006647   333.197594\n",
       "min     105.000000   113.000000\n",
       "25%     375.000000   360.000000\n",
       "50%     500.000000   467.000000\n",
       "75%     640.000000   600.000000\n",
       "max    4278.000000  4003.000000"
      ]
     },
     "execution_count": 11,
     "metadata": {},
     "output_type": "execute_result"
    }
   ],
   "source": [
    "# Check dog image sizes\n",
    "dog_sizes_df = pd.DataFrame(columns=['width','height'])\n",
    "dog_sizes_df = dog_sizes_df.astype({'width':np.float64,'height':np.float64})\n",
    "for dog_img in dog_files_all:\n",
    "\n",
    "    width, height = PIL.Image.open(dog_img).size\n",
    "    dog_sizes_df = dog_sizes_df.append({'width': width,'height':height}, ignore_index=True)\n",
    "    #print(width,height)\n",
    "    \n",
    "# Dog image sizes are assorted\n",
    "dog_sizes_df.describe()"
   ]
  },
  {
   "cell_type": "markdown",
   "metadata": {},
   "source": [
    "There are 13233 human face files, they have already been randomly shuffled so I don't need to do that again. All the human face images are 250 x 250 pixels in size the dog images are assorted sizes\n",
    "[Open face](https://opencv.org)"
   ]
  },
  {
   "cell_type": "code",
   "execution_count": 12,
   "metadata": {},
   "outputs": [
    {
     "name": "stdout",
     "output_type": "stream",
     "text": [
      "nsamples= 3000\n",
      "image data shape (3000,)\n"
     ]
    }
   ],
   "source": [
    "#There are 8351 dog images and 13233 human\n",
    "\n",
    "# I need to restrict number and size of images to avoid memory limitation issues.\n",
    "# 1500 Human 1500 Dog images classes are balanced 50/50 \n",
    "num_images=1500\n",
    "img_size=250\n",
    "num_classes=2\n",
    "num_epoch=20\n",
    "K.set_image_dim_ordering('th')\n",
    "# Create dataset of human and dog images dog first then human\n",
    "hd_files = np.append(dog_files_all[:num_images],values=[human_files[:num_images]])\n",
    "\n",
    "nsamples=len(hd_files)\n",
    "print('nsamples=',nsamples)\n",
    "print(\"image data shape\",hd_files.shape,)"
   ]
  },
  {
   "cell_type": "code",
   "execution_count": 13,
   "metadata": {},
   "outputs": [],
   "source": [
    "def preprocess_images(img_files, img_size):\n",
    "    img_data=[]\n",
    "    for img_path in img_files:\n",
    "        input_img=cv2.imread(img_path)\n",
    "        input_img=cv2.resize(input_img,(img_size, img_size), interpolation = cv2.INTER_AREA)\n",
    "        img_data.append(input_img)\n",
    "    \n",
    "    img_data=np.array(img_data)\n",
    "    img_data = img_data.astype('float32')\n",
    "    img_data /= 255\n",
    "    return img_data\n",
    "    \n",
    "img_data = preprocess_images(hd_files, img_size)"
   ]
  },
  {
   "cell_type": "code",
   "execution_count": 14,
   "metadata": {},
   "outputs": [],
   "source": [
    "# Setup labels\n",
    "names=['dog','human']\n",
    "labels = np.zeros((nsamples,), dtype='int32')\n",
    "\n",
    "labels[:num_images]=0 # Dogs\n",
    "labels[num_images:]=1 # Humans"
   ]
  },
  {
   "cell_type": "code",
   "execution_count": 15,
   "metadata": {},
   "outputs": [
    {
     "data": {
      "text/plain": [
       "(3000, 250, 250, 3)"
      ]
     },
     "execution_count": 15,
     "metadata": {},
     "output_type": "execute_result"
    }
   ],
   "source": [
    "img_data.shape"
   ]
  },
  {
   "cell_type": "code",
   "execution_count": 16,
   "metadata": {},
   "outputs": [
    {
     "name": "stdout",
     "output_type": "stream",
     "text": [
      "(3000, 3, 250, 250)\n"
     ]
    }
   ],
   "source": [
    "if K.image_dim_ordering()=='th':\n",
    "    img_data=np.rollaxis(img_data,3,1)\n",
    "    print (img_data.shape)"
   ]
  },
  {
   "cell_type": "code",
   "execution_count": 17,
   "metadata": {},
   "outputs": [],
   "source": [
    "# convert class labels to one-hot encoding\n",
    "Y = np_utils.to_categorical(labels, num_classes)\n",
    "\n",
    "#Shuffle the dataset\n",
    "x,y = shuffle(img_data,Y, random_state=42)\n",
    "# Split the dataset\n",
    "X_train_hd, X_test_hd, y_train_hd, y_test_hd = train_test_split(x, y, test_size=0.2, random_state=42)"
   ]
  },
  {
   "cell_type": "code",
   "execution_count": 18,
   "metadata": {},
   "outputs": [
    {
     "name": "stdout",
     "output_type": "stream",
     "text": [
      "X_train shape (2400, 3, 250, 250)\n",
      "y_train shape (2400, 2)\n"
     ]
    }
   ],
   "source": [
    "print(\"X_train shape\",X_train_hd.shape)\n",
    "print(\"y_train shape\",y_train_hd.shape)"
   ]
  },
  {
   "cell_type": "markdown",
   "metadata": {},
   "source": [
    "### Build Model"
   ]
  },
  {
   "cell_type": "code",
   "execution_count": 20,
   "metadata": {},
   "outputs": [],
   "source": [
    "# Human/Dog Detector\n",
    "input_shape=img_data[0].shape\n",
    "\n",
    "model = Sequential() # keras Sequential model\n",
    "\n",
    "\n",
    "model.add(Conv2D(32,(3,3), padding='same', input_shape=input_shape))\n",
    "model.add(Activation('relu'))\n",
    "\n",
    "model.add(Conv2D(32,(3,3)))\n",
    "model.add(Activation('relu'))\n",
    "model.add(MaxPooling2D(pool_size=(2, 2), data_format=\"channels_first\"))\n",
    "model.add(Dropout(0.5))\n",
    "\n",
    "\n",
    "model.add(Conv2D(64,(3,3)))\n",
    "model.add(Activation('relu'))\n",
    "model.add(MaxPooling2D(pool_size=(2, 2),data_format=\"channels_first\"))\n",
    "model.add(Dropout(0.5))\n",
    "\n",
    "model.add(Flatten())\n",
    "model.add(Dense(64))\n",
    "model.add(Activation('relu'))\n",
    "model.add(Dropout(0.5))\n",
    "model.add(Dense(num_classes))\n",
    "model.add(Activation('softmax'))\n",
    "\n",
    "model.compile(loss='categorical_crossentropy', optimizer='rmsprop',metrics=[\"accuracy\"])"
   ]
  },
  {
   "cell_type": "code",
   "execution_count": 21,
   "metadata": {},
   "outputs": [
    {
     "name": "stdout",
     "output_type": "stream",
     "text": [
      "_________________________________________________________________\n",
      "Layer (type)                 Output Shape              Param #   \n",
      "=================================================================\n",
      "conv2d_1 (Conv2D)            (None, 32, 250, 250)      896       \n",
      "_________________________________________________________________\n",
      "activation_1 (Activation)    (None, 32, 250, 250)      0         \n",
      "_________________________________________________________________\n",
      "conv2d_2 (Conv2D)            (None, 32, 248, 248)      9248      \n",
      "_________________________________________________________________\n",
      "activation_2 (Activation)    (None, 32, 248, 248)      0         \n",
      "_________________________________________________________________\n",
      "max_pooling2d_1 (MaxPooling2 (None, 32, 124, 124)      0         \n",
      "_________________________________________________________________\n",
      "dropout_1 (Dropout)          (None, 32, 124, 124)      0         \n",
      "_________________________________________________________________\n",
      "conv2d_3 (Conv2D)            (None, 64, 122, 122)      18496     \n",
      "_________________________________________________________________\n",
      "activation_3 (Activation)    (None, 64, 122, 122)      0         \n",
      "_________________________________________________________________\n",
      "max_pooling2d_2 (MaxPooling2 (None, 64, 61, 61)        0         \n",
      "_________________________________________________________________\n",
      "dropout_2 (Dropout)          (None, 64, 61, 61)        0         \n",
      "_________________________________________________________________\n",
      "flatten_1 (Flatten)          (None, 238144)            0         \n",
      "_________________________________________________________________\n",
      "dense_1 (Dense)              (None, 64)                15241280  \n",
      "_________________________________________________________________\n",
      "activation_4 (Activation)    (None, 64)                0         \n",
      "_________________________________________________________________\n",
      "dropout_3 (Dropout)          (None, 64)                0         \n",
      "_________________________________________________________________\n",
      "dense_2 (Dense)              (None, 2)                 130       \n",
      "_________________________________________________________________\n",
      "activation_5 (Activation)    (None, 2)                 0         \n",
      "=================================================================\n",
      "Total params: 15,270,050\n",
      "Trainable params: 15,270,050\n",
      "Non-trainable params: 0\n",
      "_________________________________________________________________\n"
     ]
    },
    {
     "data": {
      "text/plain": [
       "True"
      ]
     },
     "execution_count": 21,
     "metadata": {},
     "output_type": "execute_result"
    }
   ],
   "source": [
    "# Display Model Summary\n",
    "model.summary()\n",
    "model.get_config()\n",
    "model.layers[0].get_config()\n",
    "model.layers[0].input_shape\n",
    "model.layers[0].output_shape\n",
    "model.layers[0].get_weights()\n",
    "np.shape(model.layers[0].get_weights()[0])\n",
    "model.layers[0].trainable"
   ]
  },
  {
   "cell_type": "code",
   "execution_count": 22,
   "metadata": {},
   "outputs": [
    {
     "name": "stdout",
     "output_type": "stream",
     "text": [
      "Train on 2400 samples, validate on 600 samples\n",
      "Epoch 1/20\n",
      "2380/2400 [============================>.] - ETA: 0s - loss: 0.5533 - acc: 0.7744Epoch 00001: val_loss improved from inf to 0.19812, saving model to saved_models/weights.best.model1.hdf5\n",
      "2400/2400 [==============================] - 116s 48ms/step - loss: 0.5498 - acc: 0.7763 - val_loss: 0.1981 - val_acc: 0.9600\n",
      "Epoch 2/20\n",
      "2380/2400 [============================>.] - ETA: 0s - loss: 0.2407 - acc: 0.9189Epoch 00002: val_loss did not improve\n",
      "2400/2400 [==============================] - 113s 47ms/step - loss: 0.2405 - acc: 0.9192 - val_loss: 0.2730 - val_acc: 0.9267\n",
      "Epoch 3/20\n",
      "2380/2400 [============================>.] - ETA: 0s - loss: 0.1791 - acc: 0.9403Epoch 00003: val_loss improved from 0.19812 to 0.09074, saving model to saved_models/weights.best.model1.hdf5\n",
      "2400/2400 [==============================] - 113s 47ms/step - loss: 0.1778 - acc: 0.9408 - val_loss: 0.0907 - val_acc: 0.9800\n",
      "Epoch 4/20\n",
      "2380/2400 [============================>.] - ETA: 0s - loss: 0.1385 - acc: 0.9584Epoch 00004: val_loss did not improve\n",
      "2400/2400 [==============================] - 113s 47ms/step - loss: 0.1390 - acc: 0.9583 - val_loss: 0.3627 - val_acc: 0.8250\n",
      "Epoch 5/20\n",
      "2380/2400 [============================>.] - ETA: 0s - loss: 0.0943 - acc: 0.9706Epoch 00005: val_loss improved from 0.09074 to 0.07501, saving model to saved_models/weights.best.model1.hdf5\n",
      "2400/2400 [==============================] - 113s 47ms/step - loss: 0.0942 - acc: 0.9704 - val_loss: 0.0750 - val_acc: 0.9800\n",
      "Epoch 6/20\n",
      "2380/2400 [============================>.] - ETA: 0s - loss: 0.0996 - acc: 0.9761Epoch 00006: val_loss did not improve\n",
      "2400/2400 [==============================] - 113s 47ms/step - loss: 0.0991 - acc: 0.9758 - val_loss: 0.1589 - val_acc: 0.9450\n",
      "Epoch 7/20\n",
      "2380/2400 [============================>.] - ETA: 0s - loss: 0.1173 - acc: 0.9752Epoch 00007: val_loss did not improve\n",
      "2400/2400 [==============================] - 113s 47ms/step - loss: 0.1165 - acc: 0.9754 - val_loss: 0.1039 - val_acc: 0.9700\n",
      "Epoch 8/20\n",
      "2380/2400 [============================>.] - ETA: 0s - loss: 0.1099 - acc: 0.9777Epoch 00008: val_loss did not improve\n",
      "2400/2400 [==============================] - 113s 47ms/step - loss: 0.1108 - acc: 0.9775 - val_loss: 0.1075 - val_acc: 0.9567\n",
      "Epoch 9/20\n",
      "2380/2400 [============================>.] - ETA: 0s - loss: 0.1232 - acc: 0.9735Epoch 00009: val_loss did not improve\n",
      "2400/2400 [==============================] - 113s 47ms/step - loss: 0.1222 - acc: 0.9737 - val_loss: 0.0876 - val_acc: 0.9733\n",
      "Epoch 10/20\n",
      "2380/2400 [============================>.] - ETA: 0s - loss: 0.0914 - acc: 0.9811Epoch 00010: val_loss improved from 0.07501 to 0.03817, saving model to saved_models/weights.best.model1.hdf5\n",
      "2400/2400 [==============================] - 113s 47ms/step - loss: 0.0906 - acc: 0.9812 - val_loss: 0.0382 - val_acc: 0.9883\n",
      "Epoch 11/20\n",
      "2380/2400 [============================>.] - ETA: 0s - loss: 0.1418 - acc: 0.9765Epoch 00011: val_loss did not improve\n",
      "2400/2400 [==============================] - 113s 47ms/step - loss: 0.1407 - acc: 0.9767 - val_loss: 0.1159 - val_acc: 0.9567\n",
      "Epoch 12/20\n",
      "2380/2400 [============================>.] - ETA: 0s - loss: 0.0684 - acc: 0.9866Epoch 00012: val_loss did not improve\n",
      "2400/2400 [==============================] - 113s 47ms/step - loss: 0.0679 - acc: 0.9867 - val_loss: 0.3208 - val_acc: 0.9267\n",
      "Epoch 13/20\n",
      "2380/2400 [============================>.] - ETA: 0s - loss: 0.0664 - acc: 0.9857Epoch 00013: val_loss improved from 0.03817 to 0.03711, saving model to saved_models/weights.best.model1.hdf5\n",
      "2400/2400 [==============================] - 113s 47ms/step - loss: 0.0658 - acc: 0.9858 - val_loss: 0.0371 - val_acc: 0.9883\n",
      "Epoch 14/20\n",
      "2380/2400 [============================>.] - ETA: 0s - loss: 0.0525 - acc: 0.9874Epoch 00014: val_loss did not improve\n",
      "2400/2400 [==============================] - 113s 47ms/step - loss: 0.0520 - acc: 0.9875 - val_loss: 0.0739 - val_acc: 0.9733\n",
      "Epoch 15/20\n",
      "2380/2400 [============================>.] - ETA: 0s - loss: 0.1121 - acc: 0.9870Epoch 00015: val_loss did not improve\n",
      "2400/2400 [==============================] - 113s 47ms/step - loss: 0.1112 - acc: 0.9871 - val_loss: 0.1007 - val_acc: 0.9683\n",
      "Epoch 16/20\n",
      "2380/2400 [============================>.] - ETA: 0s - loss: 0.0878 - acc: 0.9857Epoch 00016: val_loss did not improve\n",
      "2400/2400 [==============================] - 113s 47ms/step - loss: 0.0871 - acc: 0.9858 - val_loss: 0.1974 - val_acc: 0.9350\n",
      "Epoch 17/20\n",
      "2380/2400 [============================>.] - ETA: 0s - loss: 0.0656 - acc: 0.9899Epoch 00017: val_loss did not improve\n",
      "2400/2400 [==============================] - 113s 47ms/step - loss: 0.0661 - acc: 0.9896 - val_loss: 0.1350 - val_acc: 0.9467\n",
      "Epoch 18/20\n",
      "2380/2400 [============================>.] - ETA: 0s - loss: 0.0570 - acc: 0.9874Epoch 00018: val_loss did not improve\n",
      "2400/2400 [==============================] - 113s 47ms/step - loss: 0.0566 - acc: 0.9875 - val_loss: 0.1434 - val_acc: 0.9783\n",
      "Epoch 19/20\n",
      "2380/2400 [============================>.] - ETA: 0s - loss: 0.0460 - acc: 0.9920Epoch 00019: val_loss did not improve\n",
      "2400/2400 [==============================] - 113s 47ms/step - loss: 0.0457 - acc: 0.9921 - val_loss: 0.1123 - val_acc: 0.9683\n",
      "Epoch 20/20\n",
      "2380/2400 [============================>.] - ETA: 0s - loss: 0.0746 - acc: 0.9887Epoch 00020: val_loss did not improve\n",
      "2400/2400 [==============================] - 113s 47ms/step - loss: 0.0740 - acc: 0.9887 - val_loss: 0.0896 - val_acc: 0.9750\n",
      "Time Elapsed:  37.787884549299875 mins\n"
     ]
    }
   ],
   "source": [
    "start=time.time()\n",
    "\n",
    "model1_savepath='saved_models/weights.best.model1.hdf5'\n",
    "\n",
    "checkpointer = ModelCheckpoint(filepath=model1_savepath, \n",
    "                               verbose=1, save_best_only=True)\n",
    "# Training\n",
    "hist = model.fit(X_train_hd, y_train_hd, batch_size=20, epochs=num_epoch, verbose=1,\n",
    "                 validation_data=(X_test_hd, y_test_hd), callbacks=[checkpointer])\n",
    "\n",
    "end=time.time()\n",
    "print('Time Elapsed: ', (end-start)/60,\"mins\")"
   ]
  },
  {
   "cell_type": "code",
   "execution_count": 23,
   "metadata": {},
   "outputs": [],
   "source": [
    "# Load best weights\n",
    "model.load_weights(model1_savepath)"
   ]
  },
  {
   "cell_type": "code",
   "execution_count": 24,
   "metadata": {},
   "outputs": [
    {
     "name": "stdout",
     "output_type": "stream",
     "text": [
      "(100, 3, 250, 250)\n",
      "(100, 3, 250, 250)\n"
     ]
    }
   ],
   "source": [
    "human_test = preprocess_images(human_files_short, img_size)\n",
    "dog_test = preprocess_images(dog_files_short,img_size)\n",
    "\n",
    "if K.image_dim_ordering()=='th':\n",
    "    human_test=np.rollaxis(human_test,3,1)\n",
    "    print (human_test.shape)\n",
    "    \n",
    "if K.image_dim_ordering()=='th':\n",
    "    dog_test=np.rollaxis(dog_test,3,1)\n",
    "    print (dog_test.shape)"
   ]
  },
  {
   "cell_type": "code",
   "execution_count": 25,
   "metadata": {},
   "outputs": [
    {
     "name": "stdout",
     "output_type": "stream",
     "text": [
      "100/100 [==============================] - 1s 9ms/step\n",
      "100/100 [==============================] - 0s 3ms/step\n"
     ]
    }
   ],
   "source": [
    "# Make predictions for the human and dog short datasets\n",
    "human_preds = model.predict_classes(human_test,verbose=1)\n",
    "dog_preds = model.predict_classes(dog_test,verbose=1)"
   ]
  },
  {
   "cell_type": "code",
   "execution_count": 26,
   "metadata": {},
   "outputs": [
    {
     "data": {
      "text/plain": [
       "array([1, 1, 1, 1, 1, 1, 1, 1, 1, 1, 1, 1, 1, 1, 1, 1, 1, 1, 1, 1, 1, 1, 1,\n",
       "       1, 1, 1, 1, 1, 1, 1, 1, 1, 1, 1, 1, 1, 1, 1, 1, 1, 1, 1, 1, 1, 1, 1,\n",
       "       1, 1, 0, 1, 1, 1, 1, 1, 1, 1, 1, 1, 1, 1, 1, 1, 1, 0, 1, 1, 1, 1, 1,\n",
       "       1, 1, 1, 1, 1, 1, 1, 1, 1, 1, 1, 1, 1, 1, 1, 1, 1, 1, 1, 1, 1, 1, 1,\n",
       "       1, 1, 1, 1, 1, 1, 1, 1])"
      ]
     },
     "execution_count": 26,
     "metadata": {},
     "output_type": "execute_result"
    }
   ],
   "source": [
    "human_preds"
   ]
  },
  {
   "cell_type": "code",
   "execution_count": 27,
   "metadata": {},
   "outputs": [
    {
     "name": "stdout",
     "output_type": "stream",
     "text": [
      "98\n"
     ]
    }
   ],
   "source": [
    "# Count of number of humans classified as human in human_files_short\n",
    "print(human_preds.sum())"
   ]
  },
  {
   "cell_type": "code",
   "execution_count": 28,
   "metadata": {},
   "outputs": [
    {
     "data": {
      "text/plain": [
       "array([0, 0, 0, 0, 0, 0, 0, 0, 0, 0, 0, 0, 0, 0, 0, 0, 0, 0, 0, 0, 0, 0, 0,\n",
       "       0, 0, 0, 0, 0, 0, 0, 0, 0, 0, 0, 0, 0, 0, 0, 0, 0, 0, 0, 0, 0, 0, 0,\n",
       "       0, 0, 0, 0, 0, 0, 0, 0, 0, 0, 0, 0, 0, 0, 0, 0, 0, 0, 0, 0, 0, 0, 0,\n",
       "       0, 0, 0, 0, 0, 0, 0, 0, 0, 0, 0, 0, 0, 0, 0, 0, 0, 0, 0, 0, 0, 0, 0,\n",
       "       0, 0, 0, 0, 0, 0, 0, 0])"
      ]
     },
     "execution_count": 28,
     "metadata": {},
     "output_type": "execute_result"
    }
   ],
   "source": [
    "dog_preds"
   ]
  },
  {
   "cell_type": "code",
   "execution_count": 29,
   "metadata": {},
   "outputs": [
    {
     "name": "stdout",
     "output_type": "stream",
     "text": [
      "0\n"
     ]
    }
   ],
   "source": [
    "# Count of number of dogs in dog_files_short classified as humans\n",
    "print(dog_preds.sum())"
   ]
  },
  {
   "cell_type": "markdown",
   "metadata": {},
   "source": [
    "So the number of non human images not correctly classified is now 1 down from 11.  Both algorithms have 100% of humans correctly identified.\n",
    "This is an improvement in performance over the OpenCV haarcascades model for detecting faces. It is trained on the human and dog data that we have here."
   ]
  },
  {
   "cell_type": "code",
   "execution_count": 30,
   "metadata": {},
   "outputs": [
    {
     "data": {
      "image/png": "[encoded data removed]",
      "text/plain": [
       "<matplotlib.figure.Figure at 0x7f72f06c1588>"
      ]
     },
     "metadata": {},
     "output_type": "display_data"
    }
   ],
   "source": [
    "# Visualizing model performance\n",
    "train_loss=hist.history['loss']\n",
    "val_loss=hist.history['val_loss']\n",
    "train_acc=hist.history['acc']\n",
    "val_acc=hist.history['val_acc']\n",
    "xc=range(num_epoch)\n",
    "\n",
    "fig,axs = plt.subplots(2,figsize=(9,14))\n",
    "fig.suptitle('Model Performance')\n",
    "fig.patch.set_facecolor('w')\n",
    "\n",
    "axs[0].plot(xc,train_loss)\n",
    "axs[0].plot(xc,val_loss)\n",
    "axs[0].set_xlabel('Number of Epochs')\n",
    "axs[0].set_ylabel('loss')\n",
    "axs[0].set_title('Training loss vs Validation loss')\n",
    "axs[0].grid(True)\n",
    "axs[0].legend(['train_loss','val_loss'])\n",
    "axs[0].set_facecolor('w')\n",
    "\n",
    "axs[1].plot(xc,train_acc)\n",
    "axs[1].plot(xc,val_acc)\n",
    "axs[1].set_xlabel('Number of Epochs')\n",
    "axs[1].set_ylabel('accuracy')\n",
    "axs[1].set_title('Training accuracy vs Validation accuracy')\n",
    "axs[1].grid(True)\n",
    "axs[1].legend(['train_acc','val_acc'],loc=4)\n",
    "\n",
    "plt.show()"
   ]
  },
  {
   "cell_type": "code",
   "execution_count": 31,
   "metadata": {},
   "outputs": [],
   "source": [
    "# Switch back to tensorflow channel last order\n",
    "K.set_image_dim_ordering('tf')"
   ]
  },
  {
   "cell_type": "code",
   "execution_count": 32,
   "metadata": {},
   "outputs": [],
   "source": [
    "model_save_path='saved_models/model_saved_human.hd5'\n",
    "\n",
    "model.save_weights(model_save_path)"
   ]
  },
  {
   "cell_type": "markdown",
   "metadata": {},
   "source": [
    "---\n",
    "<a id='step2'></a>\n",
    "## Step 2: Detect Dogs\n",
    "\n",
    "In this section, we use a pre-trained [ResNet-50](http://ethereon.github.io/netscope/#/gist/db945b393d40bfa26006) model to detect dogs in images.  Our first line of code downloads the ResNet-50 model, along with weights that have been trained on [ImageNet](http://www.image-net.org/), a very large, very popular dataset used for image classification and other vision tasks.  ImageNet contains over 10 million URLs, each linking to an image containing an object from one of [1000 categories](https://gist.github.com/yrevar/942d3a0ac09ec9e5eb3a).  Given an image, this pre-trained ResNet-50 model returns a prediction (derived from the available categories in ImageNet) for the object that is contained in the image."
   ]
  },
  {
   "cell_type": "code",
   "execution_count": 33,
   "metadata": {},
   "outputs": [
    {
     "name": "stdout",
     "output_type": "stream",
     "text": [
      "Downloading data from https://github.com/fchollet/deep-learning-models/releases/download/v0.2/resnet50_weights_tf_dim_ordering_tf_kernels.h5\n",
      "102858752/102853048 [==============================] - 1s 0us/step\n"
     ]
    }
   ],
   "source": [
    "from keras.applications.resnet50 import ResNet50\n",
    "\n",
    "# define ResNet50 model\n",
    "ResNet50_model = ResNet50(weights='imagenet')"
   ]
  },
  {
   "cell_type": "markdown",
   "metadata": {},
   "source": [
    "### Pre-process the Data\n",
    "\n",
    "When using TensorFlow as backend, Keras CNNs require a 4D array (which we'll also refer to as a 4D tensor) as input, with shape\n",
    "\n",
    "$$\n",
    "(\\text{nb_samples}, \\text{rows}, \\text{columns}, \\text{channels}),\n",
    "$$\n",
    "\n",
    "where `nb_samples` corresponds to the total number of images (or samples), and `rows`, `columns`, and `channels` correspond to the number of rows, columns, and channels for each image, respectively.  \n",
    "\n",
    "The `path_to_tensor` function below takes a string-valued file path to a color image as input and returns a 4D tensor suitable for supplying to a Keras CNN.  The function first loads the image and resizes it to a square image that is $224 \\times 224$ pixels.  Next, the image is converted to an array, which is then resized to a 4D tensor.  In this case, since we are working with color images, each image has three channels.  Likewise, since we are processing a single image (or sample), the returned tensor will always have shape\n",
    "\n",
    "$$\n",
    "(1, 224, 224, 3).\n",
    "$$\n",
    "\n",
    "The `paths_to_tensor` function takes a numpy array of string-valued image paths as input and returns a 4D tensor with shape \n",
    "\n",
    "$$\n",
    "(\\text{nb_samples}, 224, 224, 3).\n",
    "$$\n",
    "\n",
    "Here, `nb_samples` is the number of samples, or number of images, in the supplied array of image paths.  It is best to think of `nb_samples` as the number of 3D tensors (where each 3D tensor corresponds to a different image) in your dataset!"
   ]
  },
  {
   "cell_type": "code",
   "execution_count": 5,
   "metadata": {},
   "outputs": [],
   "source": [
    "from keras.preprocessing import image                  \n",
    "from tqdm import tqdm\n",
    "\n",
    "def path_to_tensor(img_path):\n",
    "    # loads RGB image as PIL.Image.Image type\n",
    "    img = image.load_img(img_path, target_size=(224, 224))\n",
    "    # convert PIL.Image.Image type to 3D tensor with shape (224, 224, 3)\n",
    "    x = image.img_to_array(img)\n",
    "    # convert 3D tensor to 4D tensor with shape (1, 224, 224, 3) and return 4D tensor\n",
    "    return np.expand_dims(x, axis=0)\n",
    "\n",
    "def paths_to_tensor(img_paths):\n",
    "    list_of_tensors = [path_to_tensor(img_path) for img_path in tqdm(img_paths)]\n",
    "    return np.vstack(list_of_tensors)"
   ]
  },
  {
   "cell_type": "markdown",
   "metadata": {},
   "source": [
    "### Making Predictions with ResNet-50\n",
    "\n",
    "Getting the 4D tensor ready for ResNet-50, and for any other pre-trained model in Keras, requires some additional processing.  First, the RGB image is converted to BGR by reordering the channels.  All pre-trained models have the additional normalization step that the mean pixel (expressed in RGB as $[103.939, 116.779, 123.68]$ and calculated from all pixels in all images in ImageNet) must be subtracted from every pixel in each image.  This is implemented in the imported function `preprocess_input`.  If you're curious, you can check the code for `preprocess_input` [here](https://github.com/fchollet/keras/blob/master/keras/applications/imagenet_utils.py).\n",
    "\n",
    "Now that we have a way to format our image for supplying to ResNet-50, we are now ready to use the model to extract the predictions.  This is accomplished with the `predict` method, which returns an array whose $i$-th entry is the model's predicted probability that the image belongs to the $i$-th ImageNet category.  This is implemented in the `ResNet50_predict_labels` function below.\n",
    "\n",
    "By taking the argmax of the predicted probability vector, we obtain an integer corresponding to the model's predicted object class, which we can identify with an object category through the use of this [dictionary](https://gist.github.com/yrevar/942d3a0ac09ec9e5eb3a). "
   ]
  },
  {
   "cell_type": "code",
   "execution_count": 35,
   "metadata": {},
   "outputs": [],
   "source": [
    "from keras.applications.resnet50 import preprocess_input, decode_predictions\n",
    "\n",
    "def ResNet50_predict_labels(img_path):\n",
    "    # returns prediction vector for image located at img_path\n",
    "    img = preprocess_input(path_to_tensor(img_path))\n",
    "    return np.argmax(ResNet50_model.predict(img))"
   ]
  },
  {
   "cell_type": "markdown",
   "metadata": {},
   "source": [
    "### Write a Dog Detector\n",
    "\n",
    "While looking at the [dictionary](https://gist.github.com/yrevar/942d3a0ac09ec9e5eb3a), you will notice that the categories corresponding to dogs appear in an uninterrupted sequence and correspond to dictionary keys 151-268, inclusive, to include all categories from `'Chihuahua'` to `'Mexican hairless'`.  Thus, in order to check to see if an image is predicted to contain a dog by the pre-trained ResNet-50 model, we need only check if the `ResNet50_predict_labels` function above returns a value between 151 and 268 (inclusive).\n",
    "\n",
    "We use these ideas to complete the `dog_detector` function below, which returns `True` if a dog is detected in an image (and `False` if not)."
   ]
  },
  {
   "cell_type": "code",
   "execution_count": 36,
   "metadata": {},
   "outputs": [],
   "source": [
    "### returns \"True\" if a dog is detected in the image stored at img_path\n",
    "def dog_detector(img_path):\n",
    "    prediction = ResNet50_predict_labels(img_path)\n",
    "    return ((prediction <= 268) & (prediction >= 151)) "
   ]
  },
  {
   "cell_type": "markdown",
   "metadata": {},
   "source": [
    "### (IMPLEMENTATION) Assess the Dog Detector\n",
    "\n",
    "__Question 3:__ Use the code cell below to test the performance of your `dog_detector` function.  \n",
    "- What percentage of the images in `human_files_short` have a detected dog?  \n",
    "- What percentage of the images in `dog_files_short` have a detected dog?\n",
    "\n",
    "__Answer:__ "
   ]
  },
  {
   "cell_type": "code",
   "execution_count": 37,
   "metadata": {},
   "outputs": [],
   "source": [
    "### TODO: Test the performance of the dog_detector function\n",
    "### on the images in human_files_short and dog_files_short.\n",
    "\n",
    "def dog_detect(path_list):\n",
    "    \"\"\"\n",
    "    Args:\n",
    "    path_list (list): list of pathnames of image files\n",
    "    Returns:\n",
    "    cnt (int):Count of number of dogs found\n",
    "    \"\"\"\n",
    "    cnt=0\n",
    "    for imgpath in path_list:\n",
    "        if(dog_detector(imgpath)):\n",
    "            cnt+=1\n",
    "    return cnt"
   ]
  },
  {
   "cell_type": "code",
   "execution_count": 38,
   "metadata": {},
   "outputs": [
    {
     "name": "stdout",
     "output_type": "stream",
     "text": [
      "Dogs detected in human_files_short 0 %\n",
      "Dogs detected in dog_files_short 100 %\n"
     ]
    }
   ],
   "source": [
    "print(\"Dogs detected in human_files_short\",dog_detect(human_files_short),\"%\")\n",
    "print(\"Dogs detected in dog_files_short\",dog_detect(dog_files_short),\"%\")"
   ]
  },
  {
   "cell_type": "markdown",
   "metadata": {},
   "source": [
    "---\n",
    "<a id='step3'></a>\n",
    "## Step 3: Create a CNN to Classify Dog Breeds (from Scratch)\n",
    "\n",
    "Now that we have functions for detecting humans and dogs in images, we need a way to predict breed from images.  In this step, you will create a CNN that classifies dog breeds.  You must create your CNN _from scratch_ (so, you can't use transfer learning _yet_!), and you must attain a test accuracy of at least 1%.  In Step 5 of this notebook, you will have the opportunity to use transfer learning to create a CNN that attains greatly improved accuracy.\n",
    "\n",
    "Be careful with adding too many trainable layers!  More parameters means longer training, which means you are more likely to need a GPU to accelerate the training process.  Thankfully, Keras provides a handy estimate of the time that each epoch is likely to take; you can extrapolate this estimate to figure out how long it will take for your algorithm to train. \n",
    "\n",
    "We mention that the task of assigning breed to dogs from images is considered exceptionally challenging.  To see why, consider that *even a human* would have great difficulty in distinguishing between a Brittany and a Welsh Springer Spaniel.  \n",
    "\n",
    "Brittany | Welsh Springer Spaniel\n",
    "- | - \n",
    "<img src=\"images/Brittany_02625.jpg\" width=\"100\"> | <img src=\"images/Welsh_springer_spaniel_08203.jpg\" width=\"200\">\n",
    "\n",
    "It is not difficult to find other dog breed pairs with minimal inter-class variation (for instance, Curly-Coated Retrievers and American Water Spaniels).  \n",
    "\n",
    "Curly-Coated Retriever | American Water Spaniel\n",
    "- | -\n",
    "<img src=\"images/Curly-coated_retriever_03896.jpg\" width=\"200\"> | <img src=\"images/American_water_spaniel_00648.jpg\" width=\"200\">\n",
    "\n",
    "\n",
    "Likewise, recall that labradors come in yellow, chocolate, and black.  Your vision-based algorithm will have to conquer this high intra-class variation to determine how to classify all of these different shades as the same breed.  \n",
    "\n",
    "Yellow Labrador | Chocolate Labrador | Black Labrador\n",
    "- | -\n",
    "<img src=\"images/Labrador_retriever_06457.jpg\" width=\"150\"> | <img src=\"images/Labrador_retriever_06455.jpg\" width=\"240\"> | <img src=\"images/Labrador_retriever_06449.jpg\" width=\"220\">\n",
    "\n",
    "We also mention that random chance presents an exceptionally low bar: setting aside the fact that the classes are slightly imabalanced, a random guess will provide a correct answer roughly 1 in 133 times, which corresponds to an accuracy of less than 1%.  \n",
    "\n",
    "Remember that the practice is far ahead of the theory in deep learning.  Experiment with many different architectures, and trust your intuition.  And, of course, have fun! \n",
    "\n",
    "### Pre-process the Data\n",
    "\n",
    "We rescale the images by dividing every pixel in every image by 255."
   ]
  },
  {
   "cell_type": "code",
   "execution_count": null,
   "metadata": {},
   "outputs": [
    {
     "name": "stderr",
     "output_type": "stream",
     "text": [
      "100%|██████████| 6680/6680 [01:38<00:00, 67.87it/s] \n"
     ]
    }
   ],
   "source": [
    "from PIL import ImageFile                            \n",
    "ImageFile.LOAD_TRUNCATED_IMAGES = True                 \n",
    "\n",
    "# pre-process the data for Keras\n",
    "train_tensors = paths_to_tensor(train_files).astype('float32')/255\n",
    "valid_tensors = paths_to_tensor(valid_files).astype('float32')/255\n",
    "test_tensors = paths_to_tensor(test_files).astype('float32')/255"
   ]
  },
  {
   "cell_type": "code",
   "execution_count": 9,
   "metadata": {},
   "outputs": [],
   "source": [
    "# Calculate Class Weights\n",
    "\n",
    "train_class_labels = np.argmax(train_targets, axis=1)\n",
    "train_class_weights = class_weight.compute_class_weight('balanced', np.unique(train_class_labels), train_class_labels)\n",
    "\n",
    "class_weights_dict={}\n",
    "for m in range(0,num_classes):\n",
    "    class_weights_dict[m]=train_class_weights[m]\n",
    "    \n",
    "train_class_weights=class_weights_dict\n",
    "\n",
    "valid_class_labels = np.argmax(valid_targets, axis=1)\n",
    "\n",
    "valid_class_weights = class_weight.compute_class_weight('balanced', np.unique(valid_class_labels), valid_class_labels)\n",
    "\n",
    "class_weights_dict={}\n",
    "for m in range(0,num_classes):\n",
    "    class_weights_dict[m]=valid_class_weights[m]\n",
    "\n",
    "valid_sample_weights = class_weight.compute_sample_weight(class_weights_dict, valid_class_labels )\n",
    "\n",
    "test_class_labels = np.argmax(test_targets, axis=1)\n",
    "\n",
    "test_class_weights = class_weight.compute_class_weight('balanced', np.unique(test_class_labels), test_class_labels)\n",
    "\n",
    "\n",
    "class_weights_dict={}\n",
    "for m in range(0,num_classes):\n",
    "    class_weights_dict[m]=test_class_weights[m]\n",
    "\n",
    "test_sample_weights = class_weight.compute_sample_weight(class_weights_dict, test_class_labels )\n",
    "\n"
   ]
  },
  {
   "cell_type": "markdown",
   "metadata": {},
   "source": [
    "### (IMPLEMENTATION) Model Architecture\n",
    "\n",
    "Create a CNN to classify dog breed.  At the end of your code cell block, summarize the layers of your model by executing the line:\n",
    "    \n",
    "        model.summary()\n",
    "\n",
    "We have imported some Python modules to get you started, but feel free to import as many modules as you need.  If you end up getting stuck, here's a hint that specifies a model that trains relatively fast on CPU and attains >1% test accuracy in 5 epochs:\n",
    "\n",
    "![Sample CNN](images/sample_cnn.png)\n",
    "           \n",
    "__Question 4:__ Outline the steps you took to get to your final CNN architecture and your reasoning at each step.  If you chose to use the hinted architecture above, describe why you think that CNN architecture should work well for the image classification task.\n",
    "\n",
    "__Answer:__ \n",
    "The data is presented in a 4 dimensional tensor (nsamples,3 channels of pixel values, x spatial , y spatial )\n",
    "This architecture has cyles of Convolution + Relu Activation, followed by pooling. The CNN assigns significance to features of the image by creating trainable weights and biases.\n",
    "\n",
    "\n",
    "Summary of model architecture\n",
    "First Convolution + Relu activation\n",
    "\n",
    "Second Convolution + Relu activation  and Pooling and Drop out\n",
    "\n",
    "Third Convolution + Relu activation and Pooling and Drop out\n",
    "\n",
    "Finally Prepare for Classification into a specified number of classes\n",
    "\n",
    "#### Convolution\n",
    "    Extracts high level features e.g. edges of subject in image\n",
    "    Reduces dimensionality (Number of bits to stored and computed)\n",
    "    \n",
    "#### Activation\n",
    "\n",
    "    Implements activation function in this layer.\n",
    "    ReLU Can be applied as matix operation handly as arguments are tensors.\n",
    "    Performs non linear transformation of input data. Non linear tranform hopes to make processed data linearly separable for       classificaton.\n",
    "    ReLU Rectified Linear Unit  function will a) if input is positive output same as input, b) if input is negative output         zero. ReLU simplfies and speeds up learning as output gradient is 0 or 1.\n",
    "    ReLU does not suffer from vanishing gradient, unlike log,tanh,erf functions.\n",
    "#### Pooling\n",
    "\n",
    "    Reduces dimensionality (Number of bits to be stored and computed) so reduces resource requirements of CNN algorithm.\n",
    "    Extracts dominant features  (Max pooling returns the maximum value from a portion of the input image or processed tensor)\n",
    "    Max pooling acts as noise suppressant.\n",
    "#### Dropout \n",
    "\n",
    "    Provides regularization of input, reduces overfitting of data.\n",
    "    Requires large network so that some learning occurs even if we throw away half the input to dropout layer.\n",
    "    Requires use of weight contraint.\n",
    "    \n",
    "#### Dense\n",
    "    This is a Fully connected layer. \n",
    "    Implements weights and bias that are basis of ML facilitate back propagation to implement learning. \n",
    "    Facilitates non linear combination of features.\n",
    "    units argument defines output dimensions\n",
    "   \n",
    "#### Flatten\n",
    "    Reshapes data before classification\n",
    "\n",
    "#### Softmax\n",
    "    The softmax classification technique makes the classification. It determines which class is identified in the output.\n",
    "    \n",
    "In summary this combination of layers implements deep learning and should provide learning while reducing overfitting. It implements CNN algorithm to provide feature extraction and classification of the samples input.\n"
   ]
  },
  {
   "cell_type": "code",
   "execution_count": 7,
   "metadata": {},
   "outputs": [
    {
     "ename": "NameError",
     "evalue": "name 'train_tensors' is not defined",
     "output_type": "error",
     "traceback": [
      "\u001b[0;31m---------------------------------------------------------------------------\u001b[0m",
      "\u001b[0;31mNameError\u001b[0m                                 Traceback (most recent call last)",
      "\u001b[0;32m<ipython-input-7-e55bae6bf194>\u001b[0m in \u001b[0;36m<module>\u001b[0;34m()\u001b[0m\n\u001b[0;32m----> 1\u001b[0;31m \u001b[0mtrain_tensors\u001b[0m\u001b[0;34m.\u001b[0m\u001b[0mshape\u001b[0m\u001b[0;34m\u001b[0m\u001b[0m\n\u001b[0m",
      "\u001b[0;31mNameError\u001b[0m: name 'train_tensors' is not defined"
     ]
    }
   ],
   "source": [
    "train_tensors.shape"
   ]
  },
  {
   "cell_type": "code",
   "execution_count": 43,
   "metadata": {},
   "outputs": [
    {
     "name": "stdout",
     "output_type": "stream",
     "text": [
      "_________________________________________________________________\n",
      "Layer (type)                 Output Shape              Param #   \n",
      "=================================================================\n",
      "conv2d_4 (Conv2D)            (None, 224, 224, 32)      896       \n",
      "_________________________________________________________________\n",
      "activation_55 (Activation)   (None, 224, 224, 32)      0         \n",
      "_________________________________________________________________\n",
      "conv2d_5 (Conv2D)            (None, 222, 222, 32)      9248      \n",
      "_________________________________________________________________\n",
      "activation_56 (Activation)   (None, 222, 222, 32)      0         \n",
      "_________________________________________________________________\n",
      "max_pooling2d_4 (MaxPooling2 (None, 222, 111, 16)      0         \n",
      "_________________________________________________________________\n",
      "dropout_4 (Dropout)          (None, 222, 111, 16)      0         \n",
      "_________________________________________________________________\n",
      "conv2d_6 (Conv2D)            (None, 220, 109, 64)      9280      \n",
      "_________________________________________________________________\n",
      "activation_57 (Activation)   (None, 220, 109, 64)      0         \n",
      "_________________________________________________________________\n",
      "max_pooling2d_5 (MaxPooling2 (None, 220, 54, 32)       0         \n",
      "_________________________________________________________________\n",
      "dropout_5 (Dropout)          (None, 220, 54, 32)       0         \n",
      "_________________________________________________________________\n",
      "flatten_3 (Flatten)          (None, 380160)            0         \n",
      "_________________________________________________________________\n",
      "dense_3 (Dense)              (None, 64)                24330304  \n",
      "_________________________________________________________________\n",
      "activation_58 (Activation)   (None, 64)                0         \n",
      "_________________________________________________________________\n",
      "dropout_6 (Dropout)          (None, 64)                0         \n",
      "_________________________________________________________________\n",
      "dense_4 (Dense)              (None, 133)               8645      \n",
      "_________________________________________________________________\n",
      "activation_59 (Activation)   (None, 133)               0         \n",
      "=================================================================\n",
      "Total params: 24,358,373\n",
      "Trainable params: 24,358,373\n",
      "Non-trainable params: 0\n",
      "_________________________________________________________________\n"
     ]
    }
   ],
   "source": [
    "# Build Dog Breed Classification Model\n",
    "from keras.layers import Conv2D, MaxPooling2D, GlobalAveragePooling2D\n",
    "from keras.layers import Dropout, Flatten, Dense\n",
    "from keras.models import Sequential\n",
    "\n",
    "input_shape=train_tensors[0].shape\n",
    "num_classes=133\n",
    "\n",
    "model = Sequential()\n",
    "\n",
    "### TODO: Define your architecture.\n",
    "\n",
    "model.add(Conv2D(32,(3,3), padding='same', input_shape=input_shape))\n",
    "model.add(Activation('relu'))\n",
    "\n",
    "model.add(Conv2D(32,(3,3)))\n",
    "model.add(Activation('relu'))\n",
    "model.add(MaxPooling2D(pool_size=(2, 2), data_format=\"channels_first\"))\n",
    "model.add(Dropout(0.5))\n",
    "\n",
    "\n",
    "model.add(Conv2D(64,(3,3)))\n",
    "model.add(Activation('relu'))\n",
    "model.add(MaxPooling2D(pool_size=(2, 2),data_format=\"channels_first\"))\n",
    "model.add(Dropout(0.5))\n",
    "\n",
    "model.add(Flatten())\n",
    "model.add(Dense(64))\n",
    "model.add(Activation('relu'))\n",
    "model.add(Dropout(0.5))\n",
    "model.add(Dense(num_classes))\n",
    "model.add(Activation('softmax'))\n",
    "\n",
    "#model.compile(loss='categorical_crossentropy', optimizer='rmsprop', metrics=[f1_score,\"accuracy\"])\n",
    "\n",
    "model.summary()"
   ]
  },
  {
   "cell_type": "code",
   "execution_count": 45,
   "metadata": {},
   "outputs": [],
   "source": [
    "from metrics_utility import f1_score"
   ]
  },
  {
   "cell_type": "markdown",
   "metadata": {},
   "source": [
    "### Compile the Model"
   ]
  },
  {
   "cell_type": "code",
   "execution_count": 49,
   "metadata": {},
   "outputs": [],
   "source": [
    "model.compile(optimizer='rmsprop', loss='categorical_crossentropy', metrics=[f1_score,'accuracy'], weighted_metrics=['accuracy'])"
   ]
  },
  {
   "cell_type": "markdown",
   "metadata": {},
   "source": [
    "### (IMPLEMENTATION) Train the Model\n",
    "\n",
    "Train your model in the code cell below.  Use model checkpointing to save the model that attains the best validation loss.\n",
    "\n",
    "You are welcome to [augment the training data](https://blog.keras.io/building-powerful-image-classification-models-using-very-little-data.html), but this is not a requirement. "
   ]
  },
  {
   "cell_type": "code",
   "execution_count": 52,
   "metadata": {},
   "outputs": [
    {
     "name": "stdout",
     "output_type": "stream",
     "text": [
      "Train on 6680 samples, validate on 835 samples\n",
      "Epoch 1/15\n",
      "6660/6680 [============================>.] - ETA: 0s - loss: 5.9894 - custom_f1: 6.0850e-04 - acc: 0.0074 - weighted_acc: 0.0074Epoch 00001: val_loss improved from inf to 4.88436, saving model to saved_models/weights.best.from_scratch.hdf5\n",
      "6680/6680 [==============================] - 76s 11ms/step - loss: 5.9861 - custom_f1: 6.0668e-04 - acc: 0.0073 - weighted_acc: 0.0073 - val_loss: 4.8844 - val_custom_f1: 0.0000e+00 - val_acc: 0.0108 - val_weighted_acc: 0.0108\n",
      "Epoch 2/15\n",
      "6660/6680 [============================>.] - ETA: 0s - loss: 4.8863 - custom_f1: 0.0000e+00 - acc: 0.0093 - weighted_acc: 0.0093Epoch 00002: val_loss improved from 4.88436 to 4.87798, saving model to saved_models/weights.best.from_scratch.hdf5\n",
      "6680/6680 [==============================] - 73s 11ms/step - loss: 4.8863 - custom_f1: 0.0000e+00 - acc: 0.0093 - weighted_acc: 0.0093 - val_loss: 4.8780 - val_custom_f1: 0.0000e+00 - val_acc: 0.0156 - val_weighted_acc: 0.0156\n",
      "Epoch 3/15\n",
      "6660/6680 [============================>.] - ETA: 0s - loss: 4.8623 - custom_f1: 0.0000e+00 - acc: 0.0143 - weighted_acc: 0.0143Epoch 00003: val_loss improved from 4.87798 to 4.84369, saving model to saved_models/weights.best.from_scratch.hdf5\n",
      "6680/6680 [==============================] - 73s 11ms/step - loss: 4.8627 - custom_f1: 0.0000e+00 - acc: 0.0142 - weighted_acc: 0.0142 - val_loss: 4.8437 - val_custom_f1: 0.0000e+00 - val_acc: 0.0132 - val_weighted_acc: 0.0132\n",
      "Epoch 4/15\n",
      "6660/6680 [============================>.] - ETA: 0s - loss: 4.8006 - custom_f1: 0.0000e+00 - acc: 0.0168 - weighted_acc: 0.0168Epoch 00004: val_loss improved from 4.84369 to 4.75901, saving model to saved_models/weights.best.from_scratch.hdf5\n",
      "6680/6680 [==============================] - 73s 11ms/step - loss: 4.8008 - custom_f1: 0.0000e+00 - acc: 0.0169 - weighted_acc: 0.0169 - val_loss: 4.7590 - val_custom_f1: 0.0000e+00 - val_acc: 0.0168 - val_weighted_acc: 0.0168\n",
      "Epoch 5/15\n",
      "6660/6680 [============================>.] - ETA: 0s - loss: 4.7398 - custom_f1: 0.0000e+00 - acc: 0.0171 - weighted_acc: 0.0171Epoch 00005: val_loss improved from 4.75901 to 4.72638, saving model to saved_models/weights.best.from_scratch.hdf5\n",
      "6680/6680 [==============================] - 73s 11ms/step - loss: 4.7403 - custom_f1: 0.0000e+00 - acc: 0.0171 - weighted_acc: 0.0171 - val_loss: 4.7264 - val_custom_f1: 0.0000e+00 - val_acc: 0.0407 - val_weighted_acc: 0.0407\n",
      "Epoch 6/15\n",
      "6660/6680 [============================>.] - ETA: 0s - loss: 4.6402 - custom_f1: 0.0000e+00 - acc: 0.0234 - weighted_acc: 0.0234Epoch 00006: val_loss improved from 4.72638 to 4.62649, saving model to saved_models/weights.best.from_scratch.hdf5\n",
      "6680/6680 [==============================] - 73s 11ms/step - loss: 4.6407 - custom_f1: 0.0000e+00 - acc: 0.0234 - weighted_acc: 0.0234 - val_loss: 4.6265 - val_custom_f1: 0.0000e+00 - val_acc: 0.0455 - val_weighted_acc: 0.0455\n",
      "Epoch 7/15\n",
      "6660/6680 [============================>.] - ETA: 0s - loss: 4.5619 - custom_f1: 0.0000e+00 - acc: 0.0291 - weighted_acc: 0.0291Epoch 00007: val_loss improved from 4.62649 to 4.55122, saving model to saved_models/weights.best.from_scratch.hdf5\n",
      "6680/6680 [==============================] - 73s 11ms/step - loss: 4.5617 - custom_f1: 0.0000e+00 - acc: 0.0295 - weighted_acc: 0.0295 - val_loss: 4.5512 - val_custom_f1: 0.0000e+00 - val_acc: 0.0443 - val_weighted_acc: 0.0443\n",
      "Epoch 8/15\n",
      "6660/6680 [============================>.] - ETA: 0s - loss: 4.4849 - custom_f1: 0.0000e+00 - acc: 0.0351 - weighted_acc: 0.0351Epoch 00008: val_loss improved from 4.55122 to 4.50569, saving model to saved_models/weights.best.from_scratch.hdf5\n",
      "6680/6680 [==============================] - 73s 11ms/step - loss: 4.4847 - custom_f1: 0.0000e+00 - acc: 0.0350 - weighted_acc: 0.0350 - val_loss: 4.5057 - val_custom_f1: 0.0000e+00 - val_acc: 0.0491 - val_weighted_acc: 0.0491\n",
      "Epoch 9/15\n",
      "6660/6680 [============================>.] - ETA: 0s - loss: 4.4157 - custom_f1: 2.8600e-04 - acc: 0.0411 - weighted_acc: 0.0411Epoch 00009: val_loss did not improve\n",
      "6680/6680 [==============================] - 73s 11ms/step - loss: 4.4169 - custom_f1: 2.8514e-04 - acc: 0.0410 - weighted_acc: 0.0410 - val_loss: 4.5902 - val_custom_f1: 0.0000e+00 - val_acc: 0.0395 - val_weighted_acc: 0.0395\n",
      "Epoch 10/15\n",
      "6660/6680 [============================>.] - ETA: 0s - loss: 4.3495 - custom_f1: 0.0011 - acc: 0.0492 - weighted_acc: 0.0492Epoch 00010: val_loss improved from 4.50569 to 4.44572, saving model to saved_models/weights.best.from_scratch.hdf5\n",
      "6680/6680 [==============================] - 73s 11ms/step - loss: 4.3503 - custom_f1: 0.0011 - acc: 0.0493 - weighted_acc: 0.0493 - val_loss: 4.4457 - val_custom_f1: 0.0000e+00 - val_acc: 0.0539 - val_weighted_acc: 0.0539\n",
      "Epoch 11/15\n",
      "6660/6680 [============================>.] - ETA: 0s - loss: 4.2925 - custom_f1: 0.0017 - acc: 0.0505 - weighted_acc: 0.0505Epoch 00011: val_loss did not improve\n",
      "6680/6680 [==============================] - 73s 11ms/step - loss: 4.2922 - custom_f1: 0.0017 - acc: 0.0506 - weighted_acc: 0.0506 - val_loss: 4.4492 - val_custom_f1: 0.0000e+00 - val_acc: 0.0443 - val_weighted_acc: 0.0443\n",
      "Epoch 12/15\n",
      "6660/6680 [============================>.] - ETA: 0s - loss: 4.2082 - custom_f1: 0.0043 - acc: 0.0598 - weighted_acc: 0.0598Epoch 00012: val_loss improved from 4.44572 to 4.38265, saving model to saved_models/weights.best.from_scratch.hdf5\n",
      "6680/6680 [==============================] - 73s 11ms/step - loss: 4.2084 - custom_f1: 0.0043 - acc: 0.0600 - weighted_acc: 0.0600 - val_loss: 4.3827 - val_custom_f1: 0.0000e+00 - val_acc: 0.0539 - val_weighted_acc: 0.0539\n",
      "Epoch 13/15\n",
      "6660/6680 [============================>.] - ETA: 0s - loss: 4.1336 - custom_f1: 0.0097 - acc: 0.0694 - weighted_acc: 0.0694Epoch 00013: val_loss did not improve\n",
      "6680/6680 [==============================] - 73s 11ms/step - loss: 4.1345 - custom_f1: 0.0096 - acc: 0.0693 - weighted_acc: 0.0693 - val_loss: 4.4409 - val_custom_f1: 0.0000e+00 - val_acc: 0.0383 - val_weighted_acc: 0.0383\n",
      "Epoch 14/15\n",
      "6660/6680 [============================>.] - ETA: 0s - loss: 4.0856 - custom_f1: 0.0119 - acc: 0.0758 - weighted_acc: 0.0758Epoch 00014: val_loss did not improve\n",
      "6680/6680 [==============================] - 73s 11ms/step - loss: 4.0866 - custom_f1: 0.0119 - acc: 0.0756 - weighted_acc: 0.0756 - val_loss: 4.3922 - val_custom_f1: 0.0000e+00 - val_acc: 0.0491 - val_weighted_acc: 0.0491\n",
      "Epoch 15/15\n",
      "6660/6680 [============================>.] - ETA: 0s - loss: 4.0055 - custom_f1: 0.0156 - acc: 0.0815 - weighted_acc: 0.0815Epoch 00015: val_loss did not improve\n",
      "6680/6680 [==============================] - 73s 11ms/step - loss: 4.0045 - custom_f1: 0.0155 - acc: 0.0820 - weighted_acc: 0.0820 - val_loss: 4.4207 - val_custom_f1: 0.0000e+00 - val_acc: 0.0407 - val_weighted_acc: 0.0407\n",
      "Time Elapsed:  18.41807407538096 mins\n"
     ]
    }
   ],
   "source": [
    "from keras.callbacks import ModelCheckpoint  \n",
    "\n",
    "### TODO: specify the number of epochs that you would like to use to train the model.\n",
    "\n",
    "epochs = 15 \n",
    "\n",
    "\n",
    "### Do NOT modify the code below this line.\n",
    "start=time.time()\n",
    "\n",
    "checkpointer = ModelCheckpoint(filepath='saved_models/weights.best.from_scratch.hdf5', \n",
    "                               verbose=1, save_best_only=True)\n",
    "\n",
    "hist=model.fit(train_tensors, train_targets, \n",
    "          validation_data=(valid_tensors, valid_targets, valid_sample_weights),\n",
    "          epochs=epochs, batch_size=20, callbacks=[checkpointer], class_weight=train_class_weights, verbose=1)\n",
    "end=time.time()\n",
    "print('Time Elapsed: ', (end-start)/60,\"mins\")"
   ]
  },
  {
   "cell_type": "markdown",
   "metadata": {},
   "source": [
    "### Load the Model with the Best Validation Loss"
   ]
  },
  {
   "cell_type": "code",
   "execution_count": null,
   "metadata": {},
   "outputs": [],
   "source": [
    "model.load_weights('saved_models/weights.best.from_scratch.hdf5')"
   ]
  },
  {
   "cell_type": "markdown",
   "metadata": {},
   "source": [
    "### Test the Model\n",
    "\n",
    "Try out your model on the test dataset of dog images.  Ensure that your test accuracy is greater than 1%."
   ]
  },
  {
   "cell_type": "code",
   "execution_count": null,
   "metadata": {},
   "outputs": [],
   "source": [
    "# get index of predicted dog breed for each image in test set\n",
    "dog_breed_predictions = [np.argmax(model.predict(np.expand_dims(tensor, axis=0))) for tensor in test_tensors]\n",
    "\n",
    "# report test accuracy\n",
    "test_accuracy = 100*np.sum(np.array(dog_breed_predictions)==np.argmax(test_targets, axis=1))/len(dog_breed_predictions)\n",
    "print('Test accuracy: %.4f%%' % test_accuracy)"
   ]
  },
  {
   "cell_type": "code",
   "execution_count": null,
   "metadata": {},
   "outputs": [],
   "source": [
    "# Visualizing model performance\n",
    "train_loss=hist.history['loss']\n",
    "val_loss=hist.history['val_loss']\n",
    "train_acc=hist.history['acc']\n",
    "val_acc=hist.history['val_acc']\n",
    "xc=range(epochs)\n",
    "\n",
    "fig,axs = plt.subplots(2,figsize=(9,14))\n",
    "fig.suptitle('Model Performance')\n",
    "fig.patch.set_facecolor('w')\n",
    "\n",
    "axs[0].plot(xc,train_loss)\n",
    "axs[0].plot(xc,val_loss)\n",
    "axs[0].set_xlabel('Number of Epochs')\n",
    "axs[0].set_ylabel('loss')\n",
    "axs[0].set_title('Training loss vs Validation loss')\n",
    "axs[0].grid(True)\n",
    "axs[0].legend(['train_loss','val_loss'])\n",
    "axs[0].set_facecolor('w')\n",
    "\n",
    "axs[1].plot(xc,train_acc)\n",
    "axs[1].plot(xc,val_acc)\n",
    "axs[1].set_xlabel('Number of Epochs')\n",
    "axs[1].set_ylabel('accuracy')\n",
    "axs[1].set_title('Training accuracy vs Validation accuracy')\n",
    "axs[1].grid(True)\n",
    "axs[1].legend(['train_acc','val_acc'],loc=4)\n",
    "\n",
    "plt.show()"
   ]
  },
  {
   "cell_type": "markdown",
   "metadata": {},
   "source": [
    "---\n",
    "<a id='step4'></a>\n",
    "## Step 4: Use a CNN to Classify Dog Breeds\n",
    "\n",
    "To reduce training time without sacrificing accuracy, we show you how to train a CNN using transfer learning.  In the following step, you will get a chance to use transfer learning to train your own CNN.\n",
    "\n",
    "### Obtain Bottleneck Features"
   ]
  },
  {
   "cell_type": "code",
   "execution_count": null,
   "metadata": {},
   "outputs": [],
   "source": [
    "bottleneck_features = np.load('bottleneck_features/DogVGG16Data.npz')\n",
    "train_VGG16 = bottleneck_features['train']\n",
    "valid_VGG16 = bottleneck_features['valid']\n",
    "test_VGG16 = bottleneck_features['test']"
   ]
  },
  {
   "cell_type": "markdown",
   "metadata": {},
   "source": [
    "### Model Architecture\n",
    "\n",
    "The model uses the the pre-trained VGG-16 model as a fixed feature extractor, where the last convolutional output of VGG-16 is fed as input to our model.  We only add a global average pooling layer and a fully connected layer, where the latter contains one node for each dog category and is equipped with a softmax."
   ]
  },
  {
   "cell_type": "code",
   "execution_count": null,
   "metadata": {},
   "outputs": [],
   "source": [
    "VGG16_model = Sequential()\n",
    "VGG16_model.add(GlobalAveragePooling2D(input_shape=train_VGG16.shape[1:]))\n",
    "VGG16_model.add(Dense(133, activation='softmax'))\n",
    "\n",
    "VGG16_model.summary()"
   ]
  },
  {
   "cell_type": "markdown",
   "metadata": {},
   "source": [
    "### Compile the Model"
   ]
  },
  {
   "cell_type": "code",
   "execution_count": null,
   "metadata": {},
   "outputs": [],
   "source": [
    "VGG16_model.compile(loss='categorical_crossentropy', optimizer='rmsprop', metrics=['accuracy'])"
   ]
  },
  {
   "cell_type": "markdown",
   "metadata": {},
   "source": [
    "### Train the Model"
   ]
  },
  {
   "cell_type": "code",
   "execution_count": null,
   "metadata": {},
   "outputs": [],
   "source": [
    "checkpointer = ModelCheckpoint(filepath='saved_models/weights.best.VGG16.hdf5', \n",
    "                               verbose=1, save_best_only=True)\n",
    "\n",
    "VGG16_model.fit(train_VGG16, train_targets, \n",
    "          validation_data=(valid_VGG16, valid_targets),\n",
    "          epochs=20, batch_size=20, callbacks=[checkpointer], verbose=1)"
   ]
  },
  {
   "cell_type": "markdown",
   "metadata": {},
   "source": [
    "### Load the Model with the Best Validation Loss"
   ]
  },
  {
   "cell_type": "code",
   "execution_count": null,
   "metadata": {},
   "outputs": [],
   "source": [
    "VGG16_model.load_weights('saved_models/weights.best.VGG16.hdf5')"
   ]
  },
  {
   "cell_type": "markdown",
   "metadata": {},
   "source": [
    "### Test the Model\n",
    "\n",
    "Now, we can use the CNN to test how well it identifies breed within our test dataset of dog images.  We print the test accuracy below."
   ]
  },
  {
   "cell_type": "code",
   "execution_count": null,
   "metadata": {},
   "outputs": [],
   "source": [
    "# get index of predicted dog breed for each image in test set\n",
    "VGG16_predictions = [np.argmax(VGG16_model.predict(np.expand_dims(feature, axis=0))) for feature in test_VGG16]\n",
    "\n",
    "# report test accuracy\n",
    "test_accuracy = 100*np.sum(np.array(VGG16_predictions)==np.argmax(test_targets, axis=1))/len(VGG16_predictions)\n",
    "print('Test accuracy: %.4f%%' % test_accuracy)"
   ]
  },
  {
   "cell_type": "markdown",
   "metadata": {},
   "source": [
    "### Predict Dog Breed with the Model"
   ]
  },
  {
   "cell_type": "code",
   "execution_count": null,
   "metadata": {},
   "outputs": [],
   "source": [
    "from extract_bottleneck_features import *\n",
    "\n",
    "def VGG16_predict_breed(img_path):\n",
    "    # extract bottleneck features\n",
    "    bottleneck_feature = extract_VGG16(path_to_tensor(img_path))\n",
    "    # obtain predicted vector\n",
    "    predicted_vector = VGG16_model.predict(bottleneck_feature)\n",
    "    # return dog breed that is predicted by the model\n",
    "    return dog_names[np.argmax(predicted_vector)]"
   ]
  },
  {
   "cell_type": "markdown",
   "metadata": {},
   "source": [
    "---\n",
    "<a id='step5'></a>\n",
    "## Step 5: Create a CNN to Classify Dog Breeds (using Transfer Learning)\n",
    "\n",
    "You will now use transfer learning to create a CNN that can identify dog breed from images.  Your CNN must attain at least 60% accuracy on the test set.\n",
    "\n",
    "In Step 4, we used transfer learning to create a CNN using VGG-16 bottleneck features.  In this section, you must use the bottleneck features from a different pre-trained model.  To make things easier for you, we have pre-computed the features for all of the networks that are currently available in Keras:\n",
    "- [VGG-19](https://s3-us-west-1.amazonaws.com/udacity-aind/dog-project/DogVGG19Data.npz) bottleneck features\n",
    "- [ResNet-50](https://s3-us-west-1.amazonaws.com/udacity-aind/dog-project/DogResnet50Data.npz) bottleneck features\n",
    "- [Inception](https://s3-us-west-1.amazonaws.com/udacity-aind/dog-project/DogInceptionV3Data.npz) bottleneck features\n",
    "- [Xception](https://s3-us-west-1.amazonaws.com/udacity-aind/dog-project/DogXceptionData.npz) bottleneck features\n",
    "\n",
    "The files are encoded as such:\n",
    "\n",
    "    Dog{network}Data.npz\n",
    "    \n",
    "where `{network}`, in the above filename, can be one of `VGG19`, `Resnet50`, `InceptionV3`, or `Xception`.  Pick one of the above architectures, download the corresponding bottleneck features, and store the downloaded file in the `bottleneck_features/` folder in the repository.\n",
    "\n",
    "### (IMPLEMENTATION) Obtain Bottleneck Features\n",
    "\n",
    "In the code block below, extract the bottleneck features corresponding to the train, test, and validation sets by running the following:\n",
    "\n",
    "    bottleneck_features = np.load('bottleneck_features/Dog{network}Data.npz')\n",
    "    train_{network} = bottleneck_features['train']\n",
    "    valid_{network} = bottleneck_features['valid']\n",
    "    test_{network} = bottleneck_features['test']"
   ]
  },
  {
   "cell_type": "code",
   "execution_count": null,
   "metadata": {},
   "outputs": [],
   "source": [
    "### TODO: Obtain bottleneck features from another pre-trained CNN.\n",
    "\n",
    "networks=['VGG16','VGG19','ResNet50','InceptionV3','Xception']\n",
    "\n",
    "network=networks[2]\n",
    "\n",
    "data_pathname='bottleneck_features/Dog{network}Data.npz'.format(network=network)\n",
    "\n",
    "print(\"Loading\",data_pathname)\n",
    "      \n",
    "bottleneck_features = np.load(data_pathname)\n",
    "\n",
    "train_ResNet50 = bottleneck_features['train']\n",
    "valid_ResNet50 = bottleneck_features['valid']\n",
    "test_ResNet50 = bottleneck_features['test']"
   ]
  },
  {
   "cell_type": "code",
   "execution_count": null,
   "metadata": {},
   "outputs": [],
   "source": [
    "# Generalize the input tensors so I can change this\n",
    "train_bnf = train_ResNet50\n",
    "valid_bnf = valid_ResNet50\n",
    "test_bnf = test_ResNet50"
   ]
  },
  {
   "cell_type": "markdown",
   "metadata": {},
   "source": [
    "### (IMPLEMENTATION) Model Architecture\n",
    "\n",
    "Create a CNN to classify dog breed.  At the end of your code cell block, summarize the layers of your model by executing the line:\n",
    "    \n",
    "        <your model's name>.summary()\n",
    "   \n",
    "__Question 5:__ Outline the steps you took to get to your final CNN architecture and your reasoning at each step.  Describe why you think the architecture is suitable for the current problem.\n",
    "\n",
    "__Answer:__ \n",
    "\n",
    "\n",
    "#### Input\n",
    "\n",
    "We need a input layer that will accept our 4D tensors for nsamples. The image_to_tensor function defines the shape we only need one shape'\n",
    "\n",
    "#### Flatten\n",
    "\n",
    "The flatten layer converts the input a 2 dimensional tensor for the dense layer to process.\n",
    "\n",
    "#### Dense\n",
    "\n",
    "Implements dense layer with input_shape specified and softmax activation algorithm attached to make classification with the correct number of classes. 133 dog breeds. It receives the data and applies the softmax to make the classification.\n",
    "\n",
    "This arrangment is a basic logistic regression.\n",
    "    \n",
    "\n",
    "\n"
   ]
  },
  {
   "cell_type": "code",
   "execution_count": null,
   "metadata": {},
   "outputs": [],
   "source": [
    "# Display shape of input tensors\n",
    "print(train_bnf.shape)\n",
    "print(valid_bnf.shape)\n",
    "print(test_bnf.shape)"
   ]
  },
  {
   "cell_type": "code",
   "execution_count": null,
   "metadata": {},
   "outputs": [],
   "source": [
    "input_obj = keras.Input(shape=train_bnf.shape[1:])\n",
    "flatten_layer = Flatten()(input_obj)\n",
    "dense_layer = Dense(num_classes, activation='softmax')(flatten_layer)\n",
    "model2=keras.Model(input_obj, dense_layer)\n",
    "\n",
    "model2.summary()"
   ]
  },
  {
   "cell_type": "markdown",
   "metadata": {},
   "source": [
    "### (IMPLEMENTATION) Compile the Model"
   ]
  },
  {
   "cell_type": "code",
   "execution_count": null,
   "metadata": {},
   "outputs": [],
   "source": [
    "### TODO: Compile the model.\n",
    "\n",
    "model2.compile(loss='categorical_crossentropy', optimizer='rmsprop',metrics=[\"accuracy\"])"
   ]
  },
  {
   "cell_type": "markdown",
   "metadata": {},
   "source": [
    "### (IMPLEMENTATION) Train the Model\n",
    "\n",
    "Train your model in the code cell below.  Use model checkpointing to save the model that attains the best validation loss.  \n",
    "\n",
    "You are welcome to [augment the training data](https://blog.keras.io/building-powerful-image-classification-models-using-very-little-data.html), but this is not a requirement. "
   ]
  },
  {
   "cell_type": "code",
   "execution_count": null,
   "metadata": {},
   "outputs": [],
   "source": [
    "### TODO: Train the model.\n",
    "\n",
    "\n",
    "saved_pathname='saved_models/weights.best.{network}.hdf5'.format(network=network)\n",
    "print(\"Best saved file pathname\",saved_pathname)\n",
    "\n",
    "checkpointer = ModelCheckpoint(filepath=saved_pathname, \n",
    "                               verbose=1, save_best_only=True)\n",
    "\n",
    "hist=model2.fit(train_bnf, train_targets, \n",
    "          validation_data=(valid_bnf, valid_targets),\n",
    "          epochs=20, batch_size=30, callbacks=[checkpointer], verbose=1)"
   ]
  },
  {
   "cell_type": "markdown",
   "metadata": {},
   "source": [
    "### (IMPLEMENTATION) Load the Model with the Best Validation Loss"
   ]
  },
  {
   "cell_type": "code",
   "execution_count": null,
   "metadata": {},
   "outputs": [],
   "source": [
    "### TODO: Load the model weights with the best validation loss.\n",
    "\n",
    "model2.load_weights(saved_pathname)"
   ]
  },
  {
   "cell_type": "markdown",
   "metadata": {},
   "source": [
    "### (IMPLEMENTATION) Test the Model\n",
    "\n",
    "Try out your model on the test dataset of dog images. Ensure that your test accuracy is greater than 60%."
   ]
  },
  {
   "cell_type": "code",
   "execution_count": null,
   "metadata": {},
   "outputs": [],
   "source": [
    "### TODO: Calculate classification accuracy on the test dataset.\n",
    "\n",
    "model2_preds = [np.argmax(model2.predict(np.expand_dims(feature, axis=0))) for feature in test_bnf]\n",
    "\n",
    "# report test accuracy\n",
    "test_accuracy = 100*np.sum(np.array(model2_preds)==np.argmax(test_targets, axis=1))/len(model2_preds)\n",
    "print('Test accuracy: %.4f%%' % test_accuracy)"
   ]
  },
  {
   "cell_type": "markdown",
   "metadata": {},
   "source": [
    "### (IMPLEMENTATION) Predict Dog Breed with the Model\n",
    "\n",
    "Write a function that takes an image path as input and returns the dog breed (`Affenpinscher`, `Afghan_hound`, etc) that is predicted by your model.  \n",
    "\n",
    "Similar to the analogous function in Step 5, your function should have three steps:\n",
    "1. Extract the bottleneck features corresponding to the chosen CNN model.\n",
    "2. Supply the bottleneck features as input to the model to return the predicted vector.  Note that the argmax of this prediction vector gives the index of the predicted dog breed.\n",
    "3. Use the `dog_names` array defined in Step 0 of this notebook to return the corresponding breed.\n",
    "\n",
    "The functions to extract the bottleneck features can be found in `extract_bottleneck_features.py`, and they have been imported in an earlier code cell.  To obtain the bottleneck features corresponding to your chosen CNN architecture, you need to use the function\n",
    "\n",
    "    extract_{network}\n",
    "    \n",
    "where `{network}`, in the above filename, should be one of `VGG19`, `Resnet50`, `InceptionV3`, or `Xception`."
   ]
  },
  {
   "cell_type": "code",
   "execution_count": null,
   "metadata": {},
   "outputs": [],
   "source": [
    "# extract_bottleneck_features functions\n",
    "\n",
    "#extract_VGG16\n",
    "#extract_VGG19\n",
    "#extract_Resnet50\n",
    "#extract_Xception\n",
    "#extract_InceptionV3"
   ]
  },
  {
   "cell_type": "code",
   "execution_count": null,
   "metadata": {},
   "outputs": [],
   "source": [
    "### TODO: Write a function that takes a path to an image as input\n",
    "### and returns the dog breed that is predicted by the model.\n",
    "\n",
    "#import bottleneck features api\n",
    "import extract_bottleneck_features as ebf\n",
    "\n",
    "\n",
    "\n",
    "def identify_breed(img_pathname, model2=model2):\n",
    "    \n",
    "    # Extract bottleneck features\n",
    "    bottleneck_feature = ebf.extract_Resnet50(path_to_tensor(img_pathname))\n",
    "    # Make prediction for this\n",
    "    predicted_vector = model2.predict(bottleneck_feature)\n",
    "    # return the breed name predicted by the model\n",
    "    breed_name= dog_names[np.argmax(predicted_vector)]\n",
    "    return breed_name"
   ]
  },
  {
   "cell_type": "code",
   "execution_count": null,
   "metadata": {},
   "outputs": [],
   "source": [
    "test_classes=np.argmax(test_targets, axis=1)"
   ]
  },
  {
   "cell_type": "code",
   "execution_count": null,
   "metadata": {},
   "outputs": [],
   "source": [
    "# Confusion Matrix   Rows are test classes Columns are predictions\n",
    "con_matrix=confusion_matrix(y_true=test_classes, y_pred= model2_preds,  labels=None, sample_weight=None)"
   ]
  },
  {
   "cell_type": "code",
   "execution_count": null,
   "metadata": {},
   "outputs": [],
   "source": [
    "\n",
    "import seaborn as sns; \n",
    "\n",
    "plt.figure(figsize=(13,10))\n",
    "axs = plt.axes()\n",
    "axs.set_title('Confusion Matrix')\n",
    "axs.set_xlabel('fudge')\n",
    "axs.set_xlabel('fudge')\n",
    "sns.heatmap(con_matrix, annot=False, cmap=\"Blues\", ax=axs)"
   ]
  },
  {
   "cell_type": "code",
   "execution_count": null,
   "metadata": {},
   "outputs": [],
   "source": [
    "cm_df=pd.DataFrame(con_matrix)"
   ]
  },
  {
   "cell_type": "code",
   "execution_count": null,
   "metadata": {},
   "outputs": [],
   "source": [
    "def get_name(indx):\n",
    "    return dog_names[indx]"
   ]
  },
  {
   "cell_type": "code",
   "execution_count": null,
   "metadata": {},
   "outputs": [],
   "source": [
    "error_df = pd.DataFrame(columns=['x_index','y_index','count'])\n",
    "\n",
    "for x in range(0,133):\n",
    "    for y in range(0,133):\n",
    "        if(x!=y and con_matrix[x,y]!=0):\n",
    "            #print(x,y,con_matrix[x,y])\n",
    "            error_df= error_df.append({'x_index':x,'y_index':y,'count':con_matrix[x,y]}, ignore_index=True)\n",
    "\n",
    "\n",
    "\n",
    "repeated_errors=error_df.sort_values(['count'],ascending=False).head(20)\n",
    "repeated_errors['x_name'] = repeated_errors['x_index'].apply(lambda x : get_name(x)) \n",
    "repeated_errors['y_name'] = repeated_errors['y_index'].apply(lambda y : get_name(y)) "
   ]
  },
  {
   "cell_type": "code",
   "execution_count": null,
   "metadata": {},
   "outputs": [],
   "source": [
    "repeated_errors"
   ]
  },
  {
   "cell_type": "code",
   "execution_count": null,
   "metadata": {},
   "outputs": [],
   "source": [
    "for index, row in repeated_errors.head(5).iterrows():\n",
    "    msg_part1='Predicted dog was a {x_name}, but really it was a {y_name}, {count} times.'\n",
    "    msg=msg_part1.format(x_name=row['x_name'], y_name=row['y_name'], count=row['count'])\n",
    "    print(msg)"
   ]
  },
  {
   "cell_type": "markdown",
   "metadata": {},
   "source": [
    "---\n",
    "<a id='step6'></a>\n",
    "## Step 6: Write your Algorithm\n",
    "\n",
    "Write an algorithm that accepts a file path to an image and first determines whether the image contains a human, dog, or neither.  Then,\n",
    "- if a __dog__ is detected in the image, return the predicted breed.\n",
    "- if a __human__ is detected in the image, return the resembling dog breed.\n",
    "- if __neither__ is detected in the image, provide output that indicates an error.\n",
    "\n",
    "You are welcome to write your own functions for detecting humans and dogs in images, but feel free to use the `face_detector` and `dog_detector` functions developed above.  You are __required__ to use your CNN from Step 5 to predict dog breed.  \n",
    "\n",
    "A sample image and output for our algorithm is provided below, but feel free to design your own user experience!\n",
    "\n",
    "![Sample Human Output](images/sample_human_2.png)\n",
    "\n",
    "This photo looks like an Afghan Hound.\n",
    "### (IMPLEMENTATION) Write your Algorithm"
   ]
  },
  {
   "cell_type": "code",
   "execution_count": null,
   "metadata": {},
   "outputs": [],
   "source": [
    "### TODO: Write your algorithm.\n",
    "### Feel free to use as many code cells as needed.\n",
    "\n",
    "\n",
    "\n",
    "\n",
    "def dog_breed_predictor(img_path):\n",
    "    \"\"\"\n",
    "    Args:\n",
    "    img_path (string): pathname of file to make prediction for\n",
    "    Returns:\n",
    "    breed_name (string): Name of breed\n",
    "    \"\"\"\n",
    "    result=\"\"\n",
    "    if(dog_detector(img_path)):\n",
    "        result=identify_breed(img_path)\n",
    "        print( \"This is a dog, its breed is\", result)\n",
    "    elif(face_detector(img_path)):\n",
    "        result=identify_breed(img_path)\n",
    "        print(\"This is a human, looks similar to a \", result)\n",
    "    else:\n",
    "        result=\"Not dog or human\"\n",
    "        print(\"This does not look like Human or Dog!\")\n",
    "    return result\n",
    "\n",
    "def show_predicted_breed(img_path):\n",
    "    \"\"\"\n",
    "    Show the image stored at path with the predicted result as title\n",
    "    Args:\n",
    "    img_path (string): pathname of file to make prediction for\n",
    "    \"\"\"\n",
    "    print(\"Actual image path = \", img_path)\n",
    "    \n",
    "    display_image(img_path, dog_breed_predictor(img_path))"
   ]
  },
  {
   "cell_type": "markdown",
   "metadata": {},
   "source": [
    "---\n",
    "<a id='step7'></a>\n",
    "## Step 7: Test Your Algorithm\n",
    "\n",
    "In this section, you will take your new algorithm for a spin!  What kind of dog does the algorithm think that __you__ look like?  If you have a dog, does it predict your dog's breed accurately?  If you have a cat, does it mistakenly think that your cat is a dog?\n",
    "\n",
    "### (IMPLEMENTATION) Test Your Algorithm on Sample Images!\n",
    "\n",
    "Test your algorithm at least six images on your computer.  Feel free to use any images you like.  Use at least two human and two dog images.  \n",
    "\n",
    "__Question 6:__ Is the output better than you expected :) ?  Or worse :( ?  Provide at least three possible points of improvement for your algorithm.\n",
    "\n",
    "__Answer:__ \n",
    "\n",
    "The output is better than I expected\n",
    "1. The algoritm could be improved by training for longer\n",
    "2. The algoritm cound be improve by adding layers to make it deeper.\n",
    "3. The algorithm could be improved by augmenting images, adding more images would help too. If possible improve the quality of the images. No images with people as well as dogs no dogs in clothes unless that is really what you want to train on. Standardize images lighting colour balance etc"
   ]
  },
  {
   "cell_type": "code",
   "execution_count": null,
   "metadata": {},
   "outputs": [],
   "source": [
    "## TODO: Execute your algorithm from Step 6 on\n",
    "## at least 6 images on your computer.\n",
    "## Feel free to use as many code cells as needed."
   ]
  },
  {
   "cell_type": "code",
   "execution_count": null,
   "metadata": {},
   "outputs": [],
   "source": [
    "test_images=['American_water_spaniel_00648.jpg',\n",
    "'Brittany_02625.jpg',\n",
    "'Curly-coated_retriever_03896.jpg',\n",
    "'human_face.jpg',\n",
    "'Labrador_retriever_06449.jpg',\n",
    "'Labrador_retriever_06455.jpg',\n",
    "'Labrador_retriever_06457.jpg',\n",
    "'sample_cnn.png',\n",
    "'sample_dog_output.png',\n",
    "'sample_human_2.png',\n",
    "'sample_human_output.png',\n",
    "'Welsh_springer_spaniel_08203.jpg',\n",
    "'lara.jpg']\n",
    "\n",
    "print(\"Number of images=\",len(test_images))\n",
    "\n",
    "\n",
    "def get_image(index):\n",
    "    return 'images/{img}'.format(img=test_images[index])\n"
   ]
  },
  {
   "cell_type": "code",
   "execution_count": null,
   "metadata": {},
   "outputs": [],
   "source": [
    "import dog_app_utils\n",
    "sb=Scoreboard()"
   ]
  },
  {
   "cell_type": "code",
   "execution_count": null,
   "metadata": {},
   "outputs": [],
   "source": [
    "show_predicted_breed(get_image(0))"
   ]
  },
  {
   "cell_type": "code",
   "execution_count": null,
   "metadata": {},
   "outputs": [],
   "source": [
    "sb.set_dog_detector_score(isDogActual=True,isDogPred=True)\n",
    "sb.set_dog_breed_detector_score(breedActual='American Water Spaniel',breedPred='Boykin Spaniel')"
   ]
  },
  {
   "cell_type": "markdown",
   "metadata": {},
   "source": [
    "The american water spaniel and Boykin Spaniel look very similar. So it not suprising the algorithm got this wrong.\n",
    "\n",
    "[Spot the difference](https://nationalpurebreddogday.com/the-boykin-spaniel-and-the-american-water-spaniel-differences/)"
   ]
  },
  {
   "cell_type": "code",
   "execution_count": null,
   "metadata": {},
   "outputs": [],
   "source": [
    "show_predicted_breed(get_image(1))"
   ]
  },
  {
   "cell_type": "code",
   "execution_count": null,
   "metadata": {},
   "outputs": [],
   "source": [
    "sb.set_dog_detector_score(isDogActual=True,isDogPred=True)\n",
    "sb.set_dog_breed_detector_score(breedActual='Brittany',breedPred='Brittany')"
   ]
  },
  {
   "cell_type": "code",
   "execution_count": null,
   "metadata": {},
   "outputs": [],
   "source": [
    "show_predicted_breed(get_image(2))"
   ]
  },
  {
   "cell_type": "code",
   "execution_count": null,
   "metadata": {},
   "outputs": [],
   "source": [
    "sb.set_dog_detector_score(isDogActual=True,isDogPred=True)\n",
    "sb.set_dog_breed_detector_score(breedActual='Curly-coated_retriever',breedPred='Curly-coated_retriever')"
   ]
  },
  {
   "cell_type": "code",
   "execution_count": null,
   "metadata": {},
   "outputs": [],
   "source": [
    "show_predicted_breed(get_image(3))"
   ]
  },
  {
   "cell_type": "code",
   "execution_count": null,
   "metadata": {},
   "outputs": [],
   "source": [
    "sb.set_dog_detector_score(isDogActual=False,isDogPred=False)\n",
    "sb.set_human_detector_score(isHumanActual=True,isHumanPred=False)"
   ]
  },
  {
   "cell_type": "code",
   "execution_count": null,
   "metadata": {},
   "outputs": [],
   "source": [
    "show_predicted_breed(human_files_short[0])"
   ]
  },
  {
   "cell_type": "markdown",
   "metadata": {},
   "source": [
    "The original image works better than the processed on presumably because the algorithm was trained on original images."
   ]
  },
  {
   "cell_type": "code",
   "execution_count": null,
   "metadata": {},
   "outputs": [],
   "source": [
    "sb.set_dog_detector_score(isDogActual=False,isDogPred=False)\n",
    "sb.set_human_detector_score(isHumanActual=True,isHumanPred=True)"
   ]
  },
  {
   "cell_type": "code",
   "execution_count": null,
   "metadata": {},
   "outputs": [],
   "source": [
    "show_predicted_breed(get_image(4))"
   ]
  },
  {
   "cell_type": "code",
   "execution_count": null,
   "metadata": {},
   "outputs": [],
   "source": [
    "sb.set_dog_detector_score(isDogActual=True,isDogPred=True)\n",
    "sb.set_dog_breed_detector_score(breedActual='Labrador_retriever',breedPred='Labrador_retriever')"
   ]
  },
  {
   "cell_type": "code",
   "execution_count": null,
   "metadata": {},
   "outputs": [],
   "source": [
    "show_predicted_breed(get_image(5))"
   ]
  },
  {
   "cell_type": "code",
   "execution_count": null,
   "metadata": {},
   "outputs": [],
   "source": [
    "sb.set_dog_detector_score(isDogActual=True,isDogPred=True)\n",
    "sb.set_dog_breed_detector_score(breedActual='Labrador_retriever',breedPred='Labrador_retriever')"
   ]
  },
  {
   "cell_type": "code",
   "execution_count": null,
   "metadata": {},
   "outputs": [],
   "source": [
    "show_predicted_breed(get_image(6))"
   ]
  },
  {
   "cell_type": "code",
   "execution_count": null,
   "metadata": {},
   "outputs": [],
   "source": [
    "sb.set_dog_detector_score(isDogActual=True,isDogPred=True)\n",
    "sb.set_dog_breed_detector_score(breedActual='Labrador_retriever',breedPred='Labrador_retriever')"
   ]
  },
  {
   "cell_type": "code",
   "execution_count": null,
   "metadata": {},
   "outputs": [],
   "source": [
    "show_predicted_breed(get_image(7))"
   ]
  },
  {
   "cell_type": "code",
   "execution_count": null,
   "metadata": {},
   "outputs": [],
   "source": [
    "sb.set_dog_detector_score(isDogActual=False,isDogPred=False)\n",
    "sb.set_human_detector_score(isHumanActual=False,isHumanPred=False)"
   ]
  },
  {
   "cell_type": "code",
   "execution_count": null,
   "metadata": {},
   "outputs": [],
   "source": [
    "show_predicted_breed(get_image(8))"
   ]
  },
  {
   "cell_type": "code",
   "execution_count": null,
   "metadata": {},
   "outputs": [],
   "source": [
    "sb.set_dog_detector_score(isDogActual=True,isDogPred=False)\n",
    "sb.set_human_detector_score(isHumanActual=False,isHumanPred=False)"
   ]
  },
  {
   "cell_type": "code",
   "execution_count": null,
   "metadata": {},
   "outputs": [],
   "source": [
    "show_predicted_breed(get_image(9))"
   ]
  },
  {
   "cell_type": "code",
   "execution_count": null,
   "metadata": {},
   "outputs": [],
   "source": [
    "sb.set_dog_detector_score(isDogActual=False,isDogPred=False)\n",
    "sb.set_human_detector_score(isHumanActual=True,isHumanPred=True)"
   ]
  },
  {
   "cell_type": "code",
   "execution_count": null,
   "metadata": {},
   "outputs": [],
   "source": [
    "show_predicted_breed(get_image(10))"
   ]
  },
  {
   "cell_type": "code",
   "execution_count": null,
   "metadata": {},
   "outputs": [],
   "source": [
    "sb.set_dog_detector_score(isDogActual=False,isDogPred=False)\n",
    "sb.set_human_detector_score(isHumanActual=True,isHumanPred=True)"
   ]
  },
  {
   "cell_type": "code",
   "execution_count": null,
   "metadata": {},
   "outputs": [],
   "source": [
    "show_predicted_breed(get_image(11))"
   ]
  },
  {
   "cell_type": "code",
   "execution_count": null,
   "metadata": {},
   "outputs": [],
   "source": [
    "sb.set_dog_detector_score(isDogActual=True,isDogPred=True)\n",
    "sb.set_dog_breed_detector_score(breedActual='Welsh_springer_spaniel',breedPred='Welsh_springer_spaniel')\n"
   ]
  },
  {
   "cell_type": "code",
   "execution_count": null,
   "metadata": {},
   "outputs": [],
   "source": [
    "show_predicted_breed(get_image(12))"
   ]
  },
  {
   "cell_type": "code",
   "execution_count": null,
   "metadata": {},
   "outputs": [],
   "source": [
    "sb.set_dog_detector_score(isDogActual=True,isDogPred=True)\n",
    "sb.set_dog_breed_detector_score(breedActual='Golden_Retriever',breedPred='Golden_Retriever')"
   ]
  },
  {
   "cell_type": "code",
   "execution_count": null,
   "metadata": {},
   "outputs": [],
   "source": [
    "# Display truth table\n",
    "sb.print_out()"
   ]
  },
  {
   "cell_type": "markdown",
   "metadata": {},
   "source": [
    "- TP - True Positive\n",
    "- TN - True Negative\n",
    "- FP - False Positive\n",
    "- FN - False Negative"
   ]
  },
  {
   "cell_type": "markdown",
   "metadata": {},
   "source": [
    "So 3 False Negatives out of 28 decisions thats not bad."
   ]
  }
 ],
 "metadata": {
  "anaconda-cloud": {},
  "kernelspec": {
   "display_name": "Python 3",
   "language": "python",
   "name": "python3"
  },
  "language_info": {
   "codemirror_mode": {
    "name": "ipython",
    "version": 3
   },
   "file_extension": ".py",
   "mimetype": "text/x-python",
   "name": "python",
   "nbconvert_exporter": "python",
   "pygments_lexer": "ipython3",
   "version": "3.6.3"
  }
 },
 "nbformat": 4,
 "nbformat_minor": 1
}
